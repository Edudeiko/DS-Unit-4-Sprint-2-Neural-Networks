{
 "cells": [
  {
   "cell_type": "markdown",
   "metadata": {
    "colab_type": "text",
    "id": "41TS0Sa0rDNx"
   },
   "source": [
    "Lambda School Data Science\n",
    "\n",
    "*Unit 4, Sprint 2, Module 4*\n",
    "\n",
    "---"
   ]
  },
  {
   "cell_type": "markdown",
   "metadata": {
    "colab_type": "text",
    "id": "41TS0Sa0rDNx"
   },
   "source": [
    "# Neural Networks & GPUs (Prepare)\n",
    "*aka Hyperparameter Tuning*\n",
    "\n",
    "*aka Big Servers for Big Problems*"
   ]
  },
  {
   "cell_type": "markdown",
   "metadata": {},
   "source": [
    "##### 1. Go to wandb.com and create an account\n",
    "##### 2. Conda activate <env_name>\n",
    "##### 3. pip install wandb\n",
    "##### 4. run the following command: wandb login\n",
    "##### 5. https://app.wandb.ai/authorize (to find your API key)"
   ]
  },
  {
   "cell_type": "markdown",
   "metadata": {
    "colab_type": "text",
    "id": "41TS0Sa0rDNx"
   },
   "source": [
    "## Learning Objectives\n",
    "* <a href=\"#p1\">Part 1</a>: Describe the major hyperparemeters to tune\n",
    "* <a href=\"#p2\">Part 2</a>: Implement an experiment tracking framework\n",
    "* <a href=\"#p3\">Part 3</a>: Search the hyperparameter space using RandomSearch (Optional)"
   ]
  },
  {
   "cell_type": "code",
   "execution_count": null,
   "metadata": {},
   "outputs": [],
   "source": [
    "wandb_group = \"ds8\"\n",
    "wandb_project = \"inclass\""
   ]
  },
  {
   "cell_type": "markdown",
   "metadata": {},
   "source": [
    "# Hyperparameter Options (Learn)\n",
    "<a id=\"p1\"></a>"
   ]
  },
  {
   "cell_type": "markdown",
   "metadata": {},
   "source": [
    "## Overview\n",
    "\n",
    "Hyperparameter tuning is much more important with neural networks than it has been with any other models that we have considered up to this point. Other supervised learning models might have a couple of parameters, but neural networks can have dozens. These can substantially affect the accuracy of our models and although it can be a time consuming process is a necessary step when working with neural networks.\n",
    "​\n",
    "Hyperparameter tuning comes with a challenge. How can we compare models specified with different hyperparameters if our model's final error metric can vary somewhat erratically? How do we avoid just getting unlucky and selecting the wrong hyperparameter? This is a problem that to a certain degree we just have to live with as we test and test again. However, we can minimize it somewhat by pairing our experiments with Cross Validation to reduce the variance of our final accuracy values."
   ]
  },
  {
   "cell_type": "markdown",
   "metadata": {
    "colab_type": "text",
    "id": "0s0o2pqBs88q"
   },
   "source": [
    "### Load Boston Housing Data"
   ]
  },
  {
   "cell_type": "code",
   "execution_count": null,
   "metadata": {},
   "outputs": [],
   "source": [
    "pip install tensorflow"
   ]
  },
  {
   "cell_type": "code",
   "execution_count": 3,
   "metadata": {},
   "outputs": [],
   "source": [
    "from tensorflow.keras.datasets import boston_housing\n",
    "\n",
    "(x_train, y_train), (x_test, y_test) = boston_housing.load_data()"
   ]
  },
  {
   "cell_type": "markdown",
   "metadata": {
    "colab_type": "text",
    "id": "Pm7zow5IvaTt"
   },
   "source": [
    "### Normalizing Input Data\n",
    "\n",
    "It's not 100% necessary to normalize/scale your input data before feeding it to a neural network, the network can learn the appropriate weights to deal with data of as long as it is numerically represented,  but it is recommended as it can help **make training faster** and **reduces the chances that gradient descent might get stuck in a local optimum**.\n",
    "\n",
    "<https://stackoverflow.com/questions/4674623/why-do-we-have-to-normalize-the-input-for-an-artificial-neural-network>"
   ]
  },
  {
   "cell_type": "code",
   "execution_count": 4,
   "metadata": {},
   "outputs": [
    {
     "name": "stdout",
     "output_type": "stream",
     "text": [
      "[[-0.27224633 -0.48361547 -0.43576161 -0.25683275 -0.1652266  -0.1764426\n",
      "   0.81306188  0.1166983  -0.62624905 -0.59517003  1.14850044  0.44807713\n",
      "   0.8252202 ]\n",
      " [-0.40342651  2.99178419 -1.33391162 -0.25683275 -1.21518188  1.89434613\n",
      "  -1.91036058  1.24758524 -0.85646254 -0.34843254 -1.71818909  0.43190599\n",
      "  -1.32920239]\n",
      " [ 0.1249402  -0.48361547  1.0283258  -0.25683275  0.62864202 -1.82968811\n",
      "   1.11048828 -1.18743907  1.67588577  1.5652875   0.78447637  0.22061726\n",
      "  -1.30850006]\n",
      " [-0.40149354 -0.48361547 -0.86940196 -0.25683275 -0.3615597  -0.3245576\n",
      "  -1.23667187  1.10717989 -0.51114231 -1.094663    0.78447637  0.44807713\n",
      "  -0.65292624]\n",
      " [-0.0056343  -0.48361547  1.0283258  -0.25683275  1.32861221  0.15364225\n",
      "   0.69480801 -0.57857203  1.67588577  1.5652875   0.78447637  0.3898823\n",
      "   0.26349695]\n",
      " [-0.37502238 -0.48361547 -0.54747912 -0.25683275 -0.54935658 -0.78865126\n",
      "   0.18954148  0.48371503 -0.51114231 -0.71552978  0.51145832  0.38669063\n",
      "  -0.13812828]\n",
      " [ 0.58963463 -0.48361547  1.0283258  -0.25683275  1.21764133 -1.03127774\n",
      "   1.11048828 -1.06518235  1.67588577  1.5652875   0.78447637  0.44807713\n",
      "   1.49873604]\n",
      " [ 0.0381708  -0.48361547  1.24588095 -0.25683275  2.67733525 -1.12719983\n",
      "   1.11048828 -1.14833073 -0.51114231 -0.01744323 -1.71818909  0.44807713\n",
      "   1.88793986]\n",
      " [-0.17228416 -0.48361547  1.24588095 -0.25683275  2.67733525 -0.90150078\n",
      "   1.11048828 -1.09664657 -0.51114231 -0.01744323 -1.71818909 -1.97365769\n",
      "   0.53952803]\n",
      " [-0.22932104 -0.48361547  1.58544339 -0.25683275  0.56888847 -1.76056777\n",
      "   1.11048828 -1.13471925 -0.62624905  0.18716835  1.23950646  0.44807713\n",
      "   2.99068404]]\n"
     ]
    }
   ],
   "source": [
    "from sklearn.preprocessing import StandardScaler\n",
    "\n",
    "scaler = StandardScaler()\n",
    "\n",
    "x_train = scaler.fit_transform(x_train)\n",
    "x_test = scaler.transform(x_test)\n",
    "print(x_train[:10])"
   ]
  },
  {
   "cell_type": "markdown",
   "metadata": {
    "colab_type": "text",
    "id": "l6hgCWbir90R"
   },
   "source": [
    "### Model Validation using an automatic verification Dataset\n",
    "\n",
    "Instead of doing seperate train test split class, Keras has a really nice feature that you can set the validation.data argument when fitting your model and Keras will take that portion of your test data and use it as a validation dataset. "
   ]
  },
  {
   "cell_type": "code",
   "execution_count": 3,
   "metadata": {
    "colab": {
     "base_uri": "https://localhost:8080/",
     "height": 1750
    },
    "colab_type": "code",
    "id": "GMXVfmzXp1Oo",
    "outputId": "b05e251e-508f-46e6-865b-f869ae2a5dc4"
   },
   "outputs": [
    {
     "name": "stdout",
     "output_type": "stream",
     "text": [
      "Train on 404 samples, validate on 102 samples\n",
      "Epoch 1/75\n",
      "404/404 [==============================] - 0s 1ms/sample - loss: 476.9607 - mse: 476.9605 - mae: 19.8555 - val_loss: 367.9492 - val_mse: 367.9492 - val_mae: 17.2778\n",
      "Epoch 2/75\n",
      "404/404 [==============================] - 0s 234us/sample - loss: 205.6677 - mse: 205.6676 - mae: 11.8820 - val_loss: 81.4272 - val_mse: 81.4272 - val_mae: 7.1987\n",
      "Epoch 3/75\n",
      "404/404 [==============================] - 0s 212us/sample - loss: 57.4421 - mse: 57.4421 - mae: 5.8281 - val_loss: 41.0415 - val_mse: 41.0415 - val_mae: 5.1701\n",
      "Epoch 4/75\n",
      "404/404 [==============================] - 0s 246us/sample - loss: 28.0570 - mse: 28.0570 - mae: 3.9214 - val_loss: 29.2556 - val_mse: 29.2556 - val_mae: 4.1496\n",
      "Epoch 5/75\n",
      "404/404 [==============================] - 0s 215us/sample - loss: 20.1014 - mse: 20.1014 - mae: 3.2950 - val_loss: 26.9916 - val_mse: 26.9916 - val_mae: 3.8806\n",
      "Epoch 6/75\n",
      "404/404 [==============================] - 0s 292us/sample - loss: 17.7472 - mse: 17.7472 - mae: 3.0415 - val_loss: 24.6200 - val_mse: 24.6200 - val_mae: 3.6400\n",
      "Epoch 7/75\n",
      "404/404 [==============================] - 0s 206us/sample - loss: 16.2161 - mse: 16.2161 - mae: 2.8928 - val_loss: 24.1704 - val_mse: 24.1704 - val_mae: 3.5723\n",
      "Epoch 8/75\n",
      "404/404 [==============================] - 0s 228us/sample - loss: 14.7377 - mse: 14.7377 - mae: 2.7044 - val_loss: 24.2475 - val_mse: 24.2475 - val_mae: 3.5337\n",
      "Epoch 9/75\n",
      "404/404 [==============================] - 0s 176us/sample - loss: 14.1571 - mse: 14.1571 - mae: 2.6911 - val_loss: 23.0514 - val_mse: 23.0514 - val_mae: 3.4080\n",
      "Epoch 10/75\n",
      "404/404 [==============================] - 0s 203us/sample - loss: 13.4525 - mse: 13.4525 - mae: 2.5608 - val_loss: 24.6225 - val_mse: 24.6225 - val_mae: 3.4587\n",
      "Epoch 11/75\n",
      "404/404 [==============================] - 0s 224us/sample - loss: 12.7224 - mse: 12.7224 - mae: 2.4929 - val_loss: 24.6189 - val_mse: 24.6189 - val_mae: 3.4335\n",
      "Epoch 12/75\n",
      "404/404 [==============================] - 0s 205us/sample - loss: 12.5216 - mse: 12.5216 - mae: 2.5335 - val_loss: 25.7366 - val_mse: 25.7366 - val_mae: 3.4221\n",
      "Epoch 13/75\n",
      "404/404 [==============================] - 0s 232us/sample - loss: 11.4980 - mse: 11.4980 - mae: 2.4232 - val_loss: 22.5328 - val_mse: 22.5328 - val_mae: 3.2316\n",
      "Epoch 14/75\n",
      "404/404 [==============================] - 0s 216us/sample - loss: 11.2133 - mse: 11.2133 - mae: 2.3770 - val_loss: 23.9770 - val_mse: 23.9770 - val_mae: 3.3006\n",
      "Epoch 15/75\n",
      "404/404 [==============================] - 0s 178us/sample - loss: 10.7469 - mse: 10.7469 - mae: 2.3405 - val_loss: 24.1592 - val_mse: 24.1592 - val_mae: 3.2863\n",
      "Epoch 16/75\n",
      "404/404 [==============================] - 0s 194us/sample - loss: 10.3449 - mse: 10.3449 - mae: 2.2944 - val_loss: 24.9012 - val_mse: 24.9012 - val_mae: 3.3177\n",
      "Epoch 17/75\n",
      "404/404 [==============================] - 0s 198us/sample - loss: 10.2650 - mse: 10.2650 - mae: 2.2854 - val_loss: 24.4957 - val_mse: 24.4957 - val_mae: 3.2872\n",
      "Epoch 18/75\n",
      "404/404 [==============================] - 0s 227us/sample - loss: 10.0261 - mse: 10.0261 - mae: 2.2518 - val_loss: 24.2502 - val_mse: 24.2502 - val_mae: 3.2575\n",
      "Epoch 19/75\n",
      "404/404 [==============================] - 0s 212us/sample - loss: 9.8615 - mse: 9.8615 - mae: 2.2652 - val_loss: 23.9302 - val_mse: 23.9302 - val_mae: 3.2362\n",
      "Epoch 20/75\n",
      "404/404 [==============================] - 0s 163us/sample - loss: 9.9611 - mse: 9.9611 - mae: 2.2378 - val_loss: 25.4561 - val_mse: 25.4561 - val_mae: 3.3243\n",
      "Epoch 21/75\n",
      "404/404 [==============================] - 0s 179us/sample - loss: 9.4965 - mse: 9.4965 - mae: 2.2292 - val_loss: 22.9131 - val_mse: 22.9131 - val_mae: 3.1389\n",
      "Epoch 22/75\n",
      "404/404 [==============================] - 0s 189us/sample - loss: 9.5224 - mse: 9.5224 - mae: 2.2004 - val_loss: 24.4313 - val_mse: 24.4313 - val_mae: 3.2820\n",
      "Epoch 23/75\n",
      "404/404 [==============================] - 0s 175us/sample - loss: 9.5320 - mse: 9.5320 - mae: 2.2175 - val_loss: 23.8549 - val_mse: 23.8549 - val_mae: 3.1512\n",
      "Epoch 24/75\n",
      "404/404 [==============================] - 0s 162us/sample - loss: 9.0244 - mse: 9.0244 - mae: 2.1680 - val_loss: 23.4176 - val_mse: 23.4176 - val_mae: 3.1335\n",
      "Epoch 25/75\n",
      "404/404 [==============================] - 0s 163us/sample - loss: 9.1423 - mse: 9.1423 - mae: 2.1772 - val_loss: 24.1573 - val_mse: 24.1573 - val_mae: 3.1572\n",
      "Epoch 26/75\n",
      "404/404 [==============================] - 0s 163us/sample - loss: 8.9227 - mse: 8.9227 - mae: 2.1037 - val_loss: 23.6945 - val_mse: 23.6945 - val_mae: 3.1596\n",
      "Epoch 27/75\n",
      "404/404 [==============================] - 0s 196us/sample - loss: 8.9357 - mse: 8.9357 - mae: 2.1700 - val_loss: 24.7351 - val_mse: 24.7351 - val_mae: 3.2035\n",
      "Epoch 28/75\n",
      "404/404 [==============================] - 0s 173us/sample - loss: 8.5863 - mse: 8.5863 - mae: 2.0916 - val_loss: 24.1394 - val_mse: 24.1394 - val_mae: 3.0946\n",
      "Epoch 29/75\n",
      "404/404 [==============================] - 0s 166us/sample - loss: 8.6069 - mse: 8.6069 - mae: 2.0863 - val_loss: 24.2123 - val_mse: 24.2123 - val_mae: 3.0992\n",
      "Epoch 30/75\n",
      "404/404 [==============================] - 0s 163us/sample - loss: 8.6695 - mse: 8.6695 - mae: 2.1283 - val_loss: 23.0689 - val_mse: 23.0689 - val_mae: 3.0642\n",
      "Epoch 31/75\n",
      "404/404 [==============================] - 0s 161us/sample - loss: 8.2681 - mse: 8.2681 - mae: 2.0529 - val_loss: 22.7038 - val_mse: 22.7038 - val_mae: 2.9916\n",
      "Epoch 32/75\n",
      "404/404 [==============================] - 0s 165us/sample - loss: 8.2728 - mse: 8.2728 - mae: 2.0648 - val_loss: 23.3351 - val_mse: 23.3351 - val_mae: 3.1739\n",
      "Epoch 33/75\n",
      "404/404 [==============================] - 0s 163us/sample - loss: 8.2035 - mse: 8.2035 - mae: 2.0680 - val_loss: 22.8702 - val_mse: 22.8702 - val_mae: 3.0554\n",
      "Epoch 34/75\n",
      "404/404 [==============================] - 0s 175us/sample - loss: 8.2032 - mse: 8.2032 - mae: 2.0464 - val_loss: 21.7915 - val_mse: 21.7915 - val_mae: 3.0619\n",
      "Epoch 35/75\n",
      "404/404 [==============================] - 0s 168us/sample - loss: 8.1145 - mse: 8.1145 - mae: 2.0423 - val_loss: 21.2303 - val_mse: 21.2303 - val_mae: 2.8953\n",
      "Epoch 36/75\n",
      "404/404 [==============================] - 0s 187us/sample - loss: 7.9479 - mse: 7.9479 - mae: 2.0083 - val_loss: 21.2959 - val_mse: 21.2959 - val_mae: 2.9405\n",
      "Epoch 37/75\n",
      "404/404 [==============================] - 0s 188us/sample - loss: 7.7643 - mse: 7.7643 - mae: 2.0013 - val_loss: 23.2068 - val_mse: 23.2068 - val_mae: 3.1028\n",
      "Epoch 38/75\n",
      "404/404 [==============================] - 0s 206us/sample - loss: 7.6375 - mse: 7.6375 - mae: 1.9948 - val_loss: 22.2029 - val_mse: 22.2029 - val_mae: 3.0476\n",
      "Epoch 39/75\n",
      "404/404 [==============================] - 0s 178us/sample - loss: 7.6992 - mse: 7.6992 - mae: 2.0108 - val_loss: 20.8590 - val_mse: 20.8590 - val_mae: 2.8656\n",
      "Epoch 40/75\n",
      "404/404 [==============================] - 0s 161us/sample - loss: 7.5998 - mse: 7.5998 - mae: 1.9808 - val_loss: 20.4968 - val_mse: 20.4968 - val_mae: 2.8657\n",
      "Epoch 41/75\n",
      "404/404 [==============================] - 0s 160us/sample - loss: 7.3876 - mse: 7.3876 - mae: 1.9588 - val_loss: 20.9531 - val_mse: 20.9531 - val_mae: 2.9706\n",
      "Epoch 42/75\n",
      "404/404 [==============================] - 0s 157us/sample - loss: 7.5003 - mse: 7.5003 - mae: 1.9596 - val_loss: 21.5413 - val_mse: 21.5413 - val_mae: 3.0038\n",
      "Epoch 43/75\n",
      "404/404 [==============================] - 0s 160us/sample - loss: 7.3751 - mse: 7.3751 - mae: 1.9460 - val_loss: 19.5254 - val_mse: 19.5254 - val_mae: 2.8191\n",
      "Epoch 44/75\n",
      "404/404 [==============================] - 0s 196us/sample - loss: 7.2840 - mse: 7.2840 - mae: 1.9146 - val_loss: 20.7852 - val_mse: 20.7852 - val_mae: 2.8943\n",
      "Epoch 45/75\n",
      "404/404 [==============================] - 0s 213us/sample - loss: 7.1208 - mse: 7.1208 - mae: 1.8963 - val_loss: 19.2613 - val_mse: 19.2613 - val_mae: 2.7844\n",
      "Epoch 46/75\n",
      "404/404 [==============================] - 0s 200us/sample - loss: 7.1492 - mse: 7.1492 - mae: 1.9024 - val_loss: 20.6771 - val_mse: 20.6771 - val_mae: 2.8671\n",
      "Epoch 47/75\n",
      "404/404 [==============================] - 0s 223us/sample - loss: 7.0633 - mse: 7.0633 - mae: 1.9165 - val_loss: 19.8779 - val_mse: 19.8779 - val_mae: 2.8383\n",
      "Epoch 48/75\n",
      "404/404 [==============================] - 0s 192us/sample - loss: 6.8731 - mse: 6.8731 - mae: 1.8895 - val_loss: 21.5591 - val_mse: 21.5591 - val_mae: 2.9659\n",
      "Epoch 49/75\n",
      "404/404 [==============================] - 0s 162us/sample - loss: 6.9023 - mse: 6.9023 - mae: 1.8832 - val_loss: 21.5008 - val_mse: 21.5008 - val_mae: 2.9248\n",
      "Epoch 50/75\n",
      "404/404 [==============================] - 0s 163us/sample - loss: 6.8167 - mse: 6.8167 - mae: 1.8653 - val_loss: 20.9454 - val_mse: 20.9454 - val_mae: 2.8633\n",
      "Epoch 51/75\n",
      "404/404 [==============================] - 0s 212us/sample - loss: 6.6889 - mse: 6.6889 - mae: 1.8658 - val_loss: 19.5531 - val_mse: 19.5531 - val_mae: 2.8491\n",
      "Epoch 52/75\n",
      "404/404 [==============================] - 0s 208us/sample - loss: 6.5327 - mse: 6.5327 - mae: 1.8164 - val_loss: 19.1738 - val_mse: 19.1738 - val_mae: 2.7426\n",
      "Epoch 53/75\n",
      "404/404 [==============================] - 0s 194us/sample - loss: 6.6388 - mse: 6.6388 - mae: 1.8687 - val_loss: 20.3639 - val_mse: 20.3639 - val_mae: 2.8555\n",
      "Epoch 54/75\n",
      "404/404 [==============================] - 0s 192us/sample - loss: 6.4971 - mse: 6.4971 - mae: 1.8418 - val_loss: 18.4290 - val_mse: 18.4290 - val_mae: 2.7618\n",
      "Epoch 55/75\n",
      "404/404 [==============================] - 0s 179us/sample - loss: 6.3589 - mse: 6.3589 - mae: 1.8102 - val_loss: 19.9441 - val_mse: 19.9441 - val_mae: 2.8825\n",
      "Epoch 56/75\n",
      "404/404 [==============================] - 0s 168us/sample - loss: 6.3882 - mse: 6.3882 - mae: 1.8059 - val_loss: 18.9716 - val_mse: 18.9716 - val_mae: 2.7549\n",
      "Epoch 57/75\n",
      "404/404 [==============================] - 0s 170us/sample - loss: 6.3824 - mse: 6.3824 - mae: 1.8345 - val_loss: 19.0912 - val_mse: 19.0912 - val_mae: 2.8078\n",
      "Epoch 58/75\n",
      "404/404 [==============================] - 0s 161us/sample - loss: 6.1072 - mse: 6.1072 - mae: 1.7703 - val_loss: 18.2004 - val_mse: 18.2004 - val_mae: 2.7780\n",
      "Epoch 59/75\n",
      "404/404 [==============================] - 0s 181us/sample - loss: 6.0148 - mse: 6.0148 - mae: 1.7527 - val_loss: 19.3147 - val_mse: 19.3147 - val_mae: 2.7561\n",
      "Epoch 60/75\n",
      "404/404 [==============================] - 0s 181us/sample - loss: 6.2706 - mse: 6.2706 - mae: 1.7885 - val_loss: 18.7509 - val_mse: 18.7509 - val_mae: 2.7474\n",
      "Epoch 61/75\n",
      "404/404 [==============================] - 0s 174us/sample - loss: 6.0676 - mse: 6.0676 - mae: 1.7765 - val_loss: 17.5733 - val_mse: 17.5733 - val_mae: 2.6811\n",
      "Epoch 62/75\n",
      "404/404 [==============================] - 0s 183us/sample - loss: 5.9669 - mse: 5.9669 - mae: 1.7620 - val_loss: 18.2814 - val_mse: 18.2814 - val_mae: 2.7341\n",
      "Epoch 63/75\n",
      "404/404 [==============================] - 0s 175us/sample - loss: 5.8485 - mse: 5.8485 - mae: 1.7492 - val_loss: 19.0500 - val_mse: 19.0500 - val_mae: 2.8728\n",
      "Epoch 64/75\n",
      "404/404 [==============================] - 0s 164us/sample - loss: 5.8907 - mse: 5.8907 - mae: 1.7297 - val_loss: 17.7317 - val_mse: 17.7317 - val_mae: 2.7032\n",
      "Epoch 65/75\n",
      "404/404 [==============================] - 0s 156us/sample - loss: 5.7935 - mse: 5.7935 - mae: 1.7394 - val_loss: 18.1105 - val_mse: 18.1105 - val_mae: 2.7681\n",
      "Epoch 66/75\n",
      "404/404 [==============================] - 0s 159us/sample - loss: 6.0615 - mse: 6.0615 - mae: 1.8317 - val_loss: 17.1811 - val_mse: 17.1811 - val_mae: 2.6971\n",
      "Epoch 67/75\n",
      "404/404 [==============================] - 0s 158us/sample - loss: 5.9304 - mse: 5.9304 - mae: 1.7416 - val_loss: 18.6445 - val_mse: 18.6445 - val_mae: 2.7444\n",
      "Epoch 68/75\n",
      "404/404 [==============================] - 0s 157us/sample - loss: 5.6606 - mse: 5.6606 - mae: 1.7041 - val_loss: 17.7915 - val_mse: 17.7915 - val_mae: 2.7184\n",
      "Epoch 69/75\n",
      "404/404 [==============================] - 0s 163us/sample - loss: 5.5716 - mse: 5.5716 - mae: 1.7163 - val_loss: 19.4538 - val_mse: 19.4538 - val_mae: 2.9001\n",
      "Epoch 70/75\n",
      "404/404 [==============================] - 0s 158us/sample - loss: 5.3893 - mse: 5.3893 - mae: 1.6740 - val_loss: 16.6990 - val_mse: 16.6990 - val_mae: 2.6831\n",
      "Epoch 71/75\n",
      "404/404 [==============================] - 0s 158us/sample - loss: 5.3925 - mse: 5.3925 - mae: 1.6394 - val_loss: 17.6497 - val_mse: 17.6497 - val_mae: 2.7626\n",
      "Epoch 72/75\n",
      "404/404 [==============================] - 0s 161us/sample - loss: 5.3049 - mse: 5.3049 - mae: 1.6919 - val_loss: 16.2526 - val_mse: 16.2526 - val_mae: 2.6285\n",
      "Epoch 73/75\n",
      "404/404 [==============================] - 0s 164us/sample - loss: 5.4230 - mse: 5.4230 - mae: 1.6706 - val_loss: 16.6328 - val_mse: 16.6328 - val_mae: 2.6641\n",
      "Epoch 74/75\n",
      "404/404 [==============================] - 0s 172us/sample - loss: 5.2662 - mse: 5.2662 - mae: 1.6399 - val_loss: 16.9078 - val_mse: 16.9078 - val_mae: 2.7082\n",
      "Epoch 75/75\n",
      "404/404 [==============================] - 0s 163us/sample - loss: 5.1731 - mse: 5.1731 - mae: 1.6323 - val_loss: 17.4773 - val_mse: 17.4773 - val_mae: 2.7833\n"
     ]
    },
    {
     "data": {
      "text/plain": [
       "<tensorflow.python.keras.callbacks.History at 0x13c062e48>"
      ]
     },
     "execution_count": 3,
     "metadata": {},
     "output_type": "execute_result"
    }
   ],
   "source": [
    "from tensorflow import keras\n",
    "from tensorflow.keras.models import Sequential\n",
    "from tensorflow.keras.layers import Dense\n",
    "\n",
    "# Important Hyperparameters\n",
    "inputs = x_train.shape[1]\n",
    "epochs = 75\n",
    "batch_size = 10\n",
    "\n",
    "\n",
    "# Create Model\n",
    "model = Sequential()\n",
    "model.add(Dense(64, activation='relu', input_shape=(inputs,)))\n",
    "model.add(Dense(64, activation='relu'))\n",
    "model.add(Dense(1))\n",
    "\n",
    "# Compile Model\n",
    "model.compile(optimizer='adam', loss='mse', metrics=['mse', 'mae'])\n",
    "\n",
    "# Fit Model\n",
    "model.fit(x_train, y_train, \n",
    "          validation_data=(x_test,y_test), \n",
    "          epochs=epochs, \n",
    "          batch_size=batch_size\n",
    "         )"
   ]
  },
  {
   "cell_type": "markdown",
   "metadata": {
    "colab_type": "text",
    "id": "sYJ8t_ezHP4W"
   },
   "source": [
    "### Hyperparameter Tuning Approaches:\n",
    "\n",
    "#### 1) Babysitting AKA \"Grad Student Descent\".\n",
    "\n",
    "If you fiddled with any hyperparameters yesterday, this is basically what you did. This approach is 100% manual and is pretty common among researchers where finding that 1 exact specification that jumps your model to a level of accuracy never seen before is the difference between publishing and not publishing a paper. Of course the professors don't do this themselves, that's grunt work. This is also known as the fiddle with hyperparameters until you run out of time method.\n",
    "\n",
    "#### 2) Grid Search\n",
    "\n",
    "Grid Search is the Grad Student galaxy brain realization of: why don't I just specify all the experiments I want to run and let the computer try every possible combination of them while I go and grab lunch. This has a specific downside in that if I specify 5 hyperparameters with 5 options each then I've just created 5^5 combinations of hyperparameters to check. Which means that I have to train 3125 different versions of my model Then if I use 5-fold Cross Validation on that then my model has to run 15,525 times. This is the brute-force method of hyperparameter tuning, but it can be very profitable if done wisely. \n",
    "\n",
    "When using Grid Search here's what I suggest: don't use it to test combinations of different hyperparameters, only use it to test different specifications of **a single** hyperparameter. It's rare that combinations between different hyperparameters lead to big performance gains. You'll get 90-95% of the way there if you just Grid Search one parameter and take the best result, then retain that best result while you test another, and then retain the best specification from that while you train another. This at least makes the situation much more manageable and leads to pretty good results. \n",
    "\n",
    "#### 3) Random Search\n",
    "\n",
    "Do Grid Search for a couple of hours and you'll say to yourself - \"There's got to be a better way.\" Enter Random Search. For Random search you specify a hyperparameter space and it picks specifications from that randomly, tries them out, gives you the best results and says - That's going to have to be good enough, go home and spend time with your family. \n",
    "\n",
    "Grid Search treats every parameter as if it was equally important, but this just isn't the case, some are known to move the needle a lot more than others (we'll talk about that in a minute). Random Search allows searching to be specified along the most important parameter and experiments less along the dimensions of less important hyperparameters. The downside of Random search is that it won't find the absolute best hyperparameters, but it is much less costly to perform than Grid Search. \n",
    "\n",
    "#### 4) Bayesian Methods\n",
    "\n",
    "One thing that can make more manual methods like babysitting and gridsearch effective is that as the experimenter sees results he can then make updates to his future searches taking into account the results of past specifications. If only we could hyperparameter tune our hyperparameter tuning. Well, we kind of can. Enter Bayesian Optimization. Neural Networks are like an optimization problem within an optimization problem, and Bayesian Optimization is a search strategy that tries to take into account the results of past searches in order to improve future ones. This is the most advanced method but can be a little bit tricky to implement, but there are some early steps with `hyperas` which is Bayesian optimization wrapper for `keras`. "
   ]
  },
  {
   "cell_type": "markdown",
   "metadata": {
    "colab_type": "text",
    "id": "HfQ7D043OMMn"
   },
   "source": [
    "## What Hyperparameters are there to test?\n",
    "\n",
    "- batch_size\n",
    "- training epochs\n",
    "- optimization algorithms\n",
    "- learning rate\n",
    "- momentum\n",
    "- activation functions\n",
    "- dropout regularization\n",
    "- number of neurons in the hidden layer\n",
    "\n",
    "There are more, but these are the most important."
   ]
  },
  {
   "cell_type": "markdown",
   "metadata": {},
   "source": [
    "## Follow Along"
   ]
  },
  {
   "cell_type": "markdown",
   "metadata": {
    "colab_type": "text",
    "id": "Mri5-kXzVKAa"
   },
   "source": [
    "## Batch Size\n",
    "\n",
    "Batch size determines how many observations the model is shown before it calculates loss/error and updates the model weights via gradient descent. You're looking for a sweet spot here where you're showing it enough observations that you have enough information to updates the weights, but not such a large batch size that you don't get a lot of weight update iterations performed in a given epoch. Feed-forward Neural Networks aren't as sensitive to bach_size as other networks, but it is still an important hyperparameter to tune. Smaller batch sizes will also take longer to train. "
   ]
  },
  {
   "cell_type": "code",
   "execution_count": 5,
   "metadata": {
    "colab": {
     "base_uri": "https://localhost:8080/",
     "height": 13561
    },
    "colab_type": "code",
    "id": "2smXfriNAGn7",
    "outputId": "ae996575-78e2-43fb-9dbe-5d44aaf0b430"
   },
   "outputs": [
    {
     "name": "stdout",
     "output_type": "stream",
     "text": [
      "Best: 0.6615397691726684 using {'batch_size': 10, 'epochs': 20}\n",
      "Means: 0.6615397691726684, Stdev: 0.0331366906888567 with: {'batch_size': 10, 'epochs': 20}\n",
      "Means: 0.6470588326454163, Stdev: 0.03208646313083679 with: {'batch_size': 20, 'epochs': 20}\n",
      "Means: 0.5976487636566162, Stdev: 0.048239722798100744 with: {'batch_size': 40, 'epochs': 20}\n",
      "Means: 0.6068330526351928, Stdev: 0.028143808217117143 with: {'batch_size': 60, 'epochs': 20}\n",
      "Means: 0.623699176311493, Stdev: 0.0446954907766402 with: {'batch_size': 80, 'epochs': 20}\n",
      "Means: 0.5599355101585388, Stdev: 0.028020553801408686 with: {'batch_size': 100, 'epochs': 20}\n"
     ]
    }
   ],
   "source": [
    "import numpy\n",
    "import pandas as pd\n",
    "from sklearn.model_selection import GridSearchCV\n",
    "from tensorflow.keras.models import Sequential\n",
    "from tensorflow.keras.layers import Dense\n",
    "from tensorflow.keras.wrappers.scikit_learn import KerasClassifier\n",
    "\n",
    "# fix random seed for reproducibility\n",
    "seed = 7\n",
    "numpy.random.seed(seed)\n",
    "\n",
    "# load dataset\n",
    "url =\"https://raw.githubusercontent.com/jbrownlee/Datasets/master/pima-indians-diabetes.data.csv\"\n",
    "\n",
    "dataset = pd.read_csv(url, header=None).values\n",
    "\n",
    "# split into input (X) and output (Y) variables\n",
    "X = dataset[:,0:8]\n",
    "Y = dataset[:,8]\n",
    "\n",
    "# Function to create model, required for KerasClassifier\n",
    "def create_model():\n",
    "    # create model\n",
    "    model = Sequential()\n",
    "    model.add(Dense(12, input_dim=8, activation='relu'))\n",
    "    model.add(Dense(1, activation='sigmoid'))\n",
    "    # Compile model\n",
    "    model.compile(loss='binary_crossentropy', optimizer='adam', metrics=['accuracy'])\n",
    "    return model\n",
    "\n",
    "# create model\n",
    "model = KerasClassifier(build_fn=create_model, verbose=0)\n",
    "\n",
    "# define the grid search parameters\n",
    "# batch_size = [10, 20, 40, 60, 80, 100]\n",
    "# param_grid = dict(batch_size=batch_size, epochs=epochs)\n",
    "\n",
    "# define the grid search parameters\n",
    "param_grid = {'batch_size': [10, 20, 40, 60, 80, 100],\n",
    "              'epochs': [20]}\n",
    "\n",
    "# Create Grid Search\n",
    "grid = GridSearchCV(estimator=model, param_grid=param_grid, n_jobs=1)\n",
    "grid_result = grid.fit(X, Y)\n",
    "\n",
    "# Report Results\n",
    "print(f\"Best: {grid_result.best_score_} using {grid_result.best_params_}\")\n",
    "means = grid_result.cv_results_['mean_test_score']\n",
    "stds = grid_result.cv_results_['std_test_score']\n",
    "params = grid_result.cv_results_['params']\n",
    "for mean, stdev, param in zip(means, stds, params):\n",
    "    print(f\"Means: {mean}, Stdev: {stdev} with: {param}\") "
   ]
  },
  {
   "cell_type": "markdown",
   "metadata": {
    "colab_type": "text",
    "id": "pmABfjlvXbqi"
   },
   "source": [
    "## Epochs\n",
    "\n",
    "The number of training epochs has a large and direct affect on the accuracy, However, more epochs is almost always goign to better than less epochs. This means that if you tune this parameter at the beginning and try and maintain the same value all throughout your training, you're going to be waiting a long time for each iteration of GridSearch. I suggest picking a fixed moderat # of epochs all throughout your training and then Grid Searching this parameter at the very end. "
   ]
  },
  {
   "cell_type": "code",
   "execution_count": 6,
   "metadata": {
    "colab": {
     "base_uri": "https://localhost:8080/",
     "height": 26329
    },
    "colab_type": "code",
    "id": "bAmxP3N7TmFh",
    "outputId": "3ddb08c4-51ac-4eaa-ff39-143397024544"
   },
   "outputs": [
    {
     "name": "stdout",
     "output_type": "stream",
     "text": [
      "Best: 0.7279602885246277 using {'batch_size': 20, 'epochs': 200}\n",
      "Means: 0.6496392607688903, Stdev: 0.0438503638591101 with: {'batch_size': 20, 'epochs': 20}\n",
      "Means: 0.6602156043052674, Stdev: 0.026967326128734554 with: {'batch_size': 20, 'epochs': 40}\n",
      "Means: 0.688820993900299, Stdev: 0.04930126093216649 with: {'batch_size': 20, 'epochs': 60}\n",
      "Means: 0.7279602885246277, Stdev: 0.04027564286337152 with: {'batch_size': 20, 'epochs': 200}\n"
     ]
    }
   ],
   "source": [
    "# define the grid search parameters\n",
    "param_grid = {'batch_size': [20],\n",
    "              'epochs': [20, 40, 60,200]}\n",
    "\n",
    "# Create Grid Search\n",
    "grid = GridSearchCV(estimator=model, param_grid=param_grid, n_jobs=1)\n",
    "grid_result = grid.fit(X, Y)\n",
    "\n",
    "# Report Results\n",
    "print(f\"Best: {grid_result.best_score_} using {grid_result.best_params_}\")\n",
    "means = grid_result.cv_results_['mean_test_score']\n",
    "stds = grid_result.cv_results_['std_test_score']\n",
    "params = grid_result.cv_results_['params']\n",
    "for mean, stdev, param in zip(means, stds, params):\n",
    "    print(f\"Means: {mean}, Stdev: {stdev} with: {param}\")"
   ]
  },
  {
   "cell_type": "markdown",
   "metadata": {
    "colab_type": "text",
    "id": "EKcuY6OiaLfz"
   },
   "source": [
    "## Optimizer\n",
    "\n",
    "Remember that there's a different optimizers [optimizers](https://keras.io/optimizers/). At some point, take some time to read up on them a little bit. \"adam\" usually gives the best results. The thing to know about choosing an optimizer is that different optimizers have different hyperparameters like learning rate, momentum, etc. So based on the optimizer you choose you might also have to tune the learning rate and momentum of those optimizers after that. "
   ]
  },
  {
   "cell_type": "markdown",
   "metadata": {
    "colab_type": "text",
    "id": "DG3wq5iOaLig"
   },
   "source": [
    "## Learning Rate\n",
    "\n",
    "Remember that the Learning Rate is a hyperparameter that is specific to your gradient-descent based optimizer selection. A learning rate that is too high will cause divergent behavior, but a Learning Rate that is too low will fail to converge, again, you're looking for the sweet spot. I would start out tuning learning rates by orders of magnitude: [.001, .01, .1, .2, .3, .5] etc. I wouldn't go above .5, but you can try it and see what the behavior is like. \n",
    "\n",
    "Once you have narrowed it down, make the window even smaller and try it again. If after running the above specification your model reports that .1 is the best optimizer, then you should probably try things like [.05, .08, .1, .12, .15] to try and narrow it down. \n",
    "\n",
    "It can also be good to tune the number of epochs in combination with the learning rate since the number of iterations that you allow the learning rate to reach the minimum can determine if you have let it run long enough to converge to the minimum. "
   ]
  },
  {
   "cell_type": "markdown",
   "metadata": {
    "colab_type": "text",
    "id": "gNTBUWd1aLlA"
   },
   "source": [
    "## Momentum\n",
    "\n",
    "Momentum is a hyperparameter that is more commonly associated with Stochastic Gradient Descent. SGD is a common optimizer because it's what people understand and know, but I doubt it will get you the best results, you can try hyperparameter tuning its attributes and see if you can beat the performance from adam. Momentum is a property that decides the willingness of an optimizer to overshoot the minimum. Imagine a ball rolling down one side of a bowl and then up the opposite side a little bit before settling back to the bottom. The purpose of momentum is to try and escale local minima."
   ]
  },
  {
   "cell_type": "markdown",
   "metadata": {
    "colab_type": "text",
    "id": "xnEG-bCJaLnZ"
   },
   "source": [
    "## Activation Functions\n",
    "\n",
    "We've talked about this a little bit, typically you'l want to use ReLU for hidden layers and either Sigmoid, or Softmax for output layers of binary and multi-class classification implementations respectively, but try other activation functions and see if you can get any better results with sigmoid or tanh or something. There are a lot of activation functions that we haven't really talked about. Maybe you'll get good results with them. Maybe you won't. :) <https://keras.io/activations/>"
   ]
  },
  {
   "cell_type": "markdown",
   "metadata": {
    "colab_type": "text",
    "id": "oul9sPq-dU-h"
   },
   "source": [
    "## Network Weight Initialization\n",
    "\n",
    "You saw how big of an effect the way that we initialize our network's weights can have on our results. There are **a lot** of what are called initialization modes. I don't understand all of them, but they can have a big affect on your model's initial accuracy. Your model will get further with less epochs if you initialize it with weights that are well suited to the problem you're trying to solve.\n",
    "\n",
    "`init_mode = ['uniform', 'lecun_uniform', 'normal', 'zero', 'glorot_normal', 'glorot_uniform', 'he_normal', 'he_uniform']`"
   ]
  },
  {
   "cell_type": "markdown",
   "metadata": {
    "colab_type": "text",
    "id": "bqtEuxeQaLqE"
   },
   "source": [
    "## Dropout Regularization and the Weight Constraint\n",
    "\n",
    "the Dropout Regularization value is a percentage of neurons that you want to be randomly deactivated during training. The weight constraint is a second regularization parameter that works in tandem with dropout regularization. You should tune these two values at the same time. \n",
    "\n",
    "Using dropout on visible vs hidden layers might have a different effect. Using dropout on hidden layers might not have any effect while using dropout on hidden layers might have a substantial effect. You don't necessarily need to turn use dropout unless you see that your model has overfitting and generalizability problems."
   ]
  },
  {
   "cell_type": "markdown",
   "metadata": {
    "colab_type": "text",
    "id": "P2c5Cv6oaLtO"
   },
   "source": [
    "## Neurons in Hidden Layer \n",
    "\n",
    "Remember that when we only had a single perceptron our model was only able to fit to linearly separable data, but as we have added layers and nodes to those layers our network has become a powerhouse of fitting nonlinearity in data. The larger the network and the more nodes generally the stronger the network's capacity to fit nonlinear patterns in data. The more nodes and layers the longer it will take to train a network, and higher the probability of overfitting. The larger your network gets the more you'll need dropout regularization or other regularization techniques to keep it in check. \n",
    "\n",
    "Typically depth (more layers) is more important than width (more nodes) for neural networks. This is part of why Deep Learning is so highly touted. Certain deep learning architectures have truly been huge breakthroughs for certain machine learning tasks. \n",
    "\n",
    "You might borrow ideas from other network architectures. For example if I was doing image recognition and I wasn't taking cues from state of the art architectures like resnet, alexnet, googlenet, etc. Then I'm probably going to have to do a lot more experimentation on my own before I find something that works.\n",
    "\n",
    "There are some heuristics, but I am highly skeptical of them. I think you're better off experimenting on your own and forming your own intuition for these kinds of problems. \n",
    "\n",
    "- https://machinelearningmastery.com/how-to-configure-the-number-of-layers-and-nodes-in-a-neural-network/"
   ]
  },
  {
   "cell_type": "markdown",
   "metadata": {},
   "source": [
    "## Challenge\n",
    "You will be expected to tune several hyperparameters in today's module project. "
   ]
  },
  {
   "cell_type": "markdown",
   "metadata": {},
   "source": [
    "# Experiment Tracking Framework (Learn)\n",
    "<a id=\"p2\"></a>"
   ]
  },
  {
   "cell_type": "markdown",
   "metadata": {},
   "source": [
    "## Overview\n",
    "\n",
    "You will notice quickly that managing the results of all the experiments you are running becomes challenging. Which set of parameters did the best? Are my results today different than my results yesterday? Although we use Ipython Notebooks to work, the format is not well suited to logging experimental results. Enter experiment tracking frameworks like [Comet.ml](https://comet.ml) and [Weights and Biases](https://wandb.ai/).\n",
    "\n",
    "Those tools will help you track your experiments, store the results, and the code associated with those experiments. Experimental results can also be readily visualized to see changes in performance across any metric you care about. Data is sent to the tool as each epoch is completed, so you can also see if your model is converging. Let's check out Weights & Biases today. "
   ]
  },
  {
   "cell_type": "markdown",
   "metadata": {},
   "source": [
    "## Follow Along\n",
    "\n",
    "Make sure you login into `wandb` in the terminal before running the next cell. "
   ]
  },
  {
   "cell_type": "code",
   "execution_count": 20,
   "metadata": {},
   "outputs": [],
   "source": [
    "import wandb\n",
    "from wandb.keras import WandbCallback"
   ]
  },
  {
   "cell_type": "code",
   "execution_count": 19,
   "metadata": {},
   "outputs": [
    {
     "name": "stdout",
     "output_type": "stream",
     "text": [
      "/bin/sh: wandb: command not found\r\n"
     ]
    }
   ],
   "source": [
    "!wandb login 239----------------------------cb8a"
   ]
  },
  {
   "cell_type": "code",
   "execution_count": 21,
   "metadata": {},
   "outputs": [
    {
     "data": {
      "text/html": [
       "\n",
       "                Logging results to <a href=\"https://wandb.com\" target=\"_blank\">Weights & Biases</a> <a href=\"https://docs.wandb.com/integrations/jupyter.html\" target=\"_blank\">(Documentation)</a>.<br/>\n",
       "                Project page: <a href=\"https://app.wandb.ai/e-d/unit_4_4\" target=\"_blank\">https://app.wandb.ai/e-d/unit_4_4</a><br/>\n",
       "                Run page: <a href=\"https://app.wandb.ai/e-d/unit_4_4/runs/28oah10b\" target=\"_blank\">https://app.wandb.ai/e-d/unit_4_4/runs/28oah10b</a><br/>\n",
       "            "
      ],
      "text/plain": [
       "<IPython.core.display.HTML object>"
      ]
     },
     "metadata": {},
     "output_type": "display_data"
    },
    {
     "data": {
      "text/plain": [
       "W&B Run: https://app.wandb.ai/e-d/unit_4_4/runs/28oah10b"
      ]
     },
     "execution_count": 21,
     "metadata": {},
     "output_type": "execute_result"
    }
   ],
   "source": [
    "wandb.init(project=\"unit_4_4\")"
   ]
  },
  {
   "cell_type": "code",
   "execution_count": 23,
   "metadata": {
    "colab": {
     "base_uri": "https://localhost:8080/",
     "height": 1750
    },
    "colab_type": "code",
    "id": "GMXVfmzXp1Oo",
    "outputId": "b05e251e-508f-46e6-865b-f869ae2a5dc4"
   },
   "outputs": [
    {
     "name": "stdout",
     "output_type": "stream",
     "text": [
      "Train on 270 samples, validate on 134 samples\n",
      "Epoch 1/50\n",
      "270/270 [==============================] - 0s 2ms/sample - loss: 502.0483 - mse: 502.0483 - mae: 20.5502 - val_loss: 493.7646 - val_mse: 493.7646 - val_mae: 19.8576\n",
      "Epoch 2/50\n",
      "270/270 [==============================] - 0s 354us/sample - loss: 265.4885 - mse: 265.4886 - mae: 13.5807 - val_loss: 127.9507 - val_mse: 127.9507 - val_mae: 8.4916\n",
      "Epoch 3/50\n",
      "270/270 [==============================] - 0s 325us/sample - loss: 63.1789 - mse: 63.1789 - mae: 5.9446 - val_loss: 64.2472 - val_mse: 64.2472 - val_mae: 5.9382\n",
      "Epoch 4/50\n",
      "270/270 [==============================] - 0s 286us/sample - loss: 33.6395 - mse: 33.6395 - mae: 4.2153 - val_loss: 40.8603 - val_mse: 40.8603 - val_mae: 4.5138\n",
      "Epoch 5/50\n",
      "270/270 [==============================] - 0s 324us/sample - loss: 24.1518 - mse: 24.1518 - mae: 3.5966 - val_loss: 33.3680 - val_mse: 33.3680 - val_mae: 3.9214\n",
      "Epoch 6/50\n",
      "270/270 [==============================] - 0s 318us/sample - loss: 18.6582 - mse: 18.6582 - mae: 3.1497 - val_loss: 29.2744 - val_mse: 29.2744 - val_mae: 3.7052\n",
      "Epoch 7/50\n",
      "270/270 [==============================] - 0s 328us/sample - loss: 17.0716 - mse: 17.0716 - mae: 3.0392 - val_loss: 26.7072 - val_mse: 26.7072 - val_mae: 3.4302\n",
      "Epoch 8/50\n",
      "270/270 [==============================] - 0s 299us/sample - loss: 14.5951 - mse: 14.5951 - mae: 2.7887 - val_loss: 23.6829 - val_mse: 23.6829 - val_mae: 3.2328\n",
      "Epoch 9/50\n",
      "270/270 [==============================] - 0s 449us/sample - loss: 12.8941 - mse: 12.8941 - mae: 2.6235 - val_loss: 21.7981 - val_mse: 21.7981 - val_mae: 3.0879\n",
      "Epoch 10/50\n",
      "270/270 [==============================] - 0s 640us/sample - loss: 12.0091 - mse: 12.0091 - mae: 2.5703 - val_loss: 21.7170 - val_mse: 21.7170 - val_mae: 3.0640\n",
      "Epoch 11/50\n",
      "270/270 [==============================] - 0s 367us/sample - loss: 11.0962 - mse: 11.0962 - mae: 2.4816 - val_loss: 19.5393 - val_mse: 19.5393 - val_mae: 2.9174\n",
      "Epoch 12/50\n",
      "270/270 [==============================] - 0s 431us/sample - loss: 10.5885 - mse: 10.5885 - mae: 2.3886 - val_loss: 20.0202 - val_mse: 20.0202 - val_mae: 2.9582\n",
      "Epoch 13/50\n",
      "270/270 [==============================] - 0s 1ms/sample - loss: 9.9184 - mse: 9.9184 - mae: 2.3772 - val_loss: 18.7504 - val_mse: 18.7504 - val_mae: 2.8902\n",
      "Epoch 14/50\n",
      "270/270 [==============================] - 0s 313us/sample - loss: 9.3701 - mse: 9.3701 - mae: 2.2940 - val_loss: 17.6632 - val_mse: 17.6632 - val_mae: 2.8138\n",
      "Epoch 15/50\n",
      "270/270 [==============================] - 0s 221us/sample - loss: 8.9182 - mse: 8.9182 - mae: 2.2413 - val_loss: 18.1778 - val_mse: 18.1778 - val_mae: 2.8389\n",
      "Epoch 16/50\n",
      "270/270 [==============================] - 0s 233us/sample - loss: 8.8598 - mse: 8.8598 - mae: 2.2288 - val_loss: 17.6973 - val_mse: 17.6973 - val_mae: 2.8354\n",
      "Epoch 17/50\n",
      "270/270 [==============================] - 0s 281us/sample - loss: 8.9907 - mse: 8.9907 - mae: 2.2476 - val_loss: 17.4006 - val_mse: 17.4006 - val_mae: 2.8006\n",
      "Epoch 18/50\n",
      "270/270 [==============================] - 0s 284us/sample - loss: 8.1749 - mse: 8.1749 - mae: 2.1030 - val_loss: 17.2118 - val_mse: 17.2118 - val_mae: 2.7554\n",
      "Epoch 19/50\n",
      "270/270 [==============================] - 0s 314us/sample - loss: 8.5494 - mse: 8.5494 - mae: 2.1882 - val_loss: 16.8154 - val_mse: 16.8154 - val_mae: 2.7455\n",
      "Epoch 20/50\n",
      "270/270 [==============================] - 0s 424us/sample - loss: 7.3042 - mse: 7.3042 - mae: 2.0253 - val_loss: 16.9193 - val_mse: 16.9193 - val_mae: 2.7843\n",
      "Epoch 21/50\n",
      "270/270 [==============================] - 0s 298us/sample - loss: 7.5265 - mse: 7.5265 - mae: 2.0798 - val_loss: 16.3843 - val_mse: 16.3843 - val_mae: 2.7474\n",
      "Epoch 22/50\n",
      "270/270 [==============================] - 0s 401us/sample - loss: 7.0196 - mse: 7.0196 - mae: 1.9900 - val_loss: 16.0316 - val_mse: 16.0316 - val_mae: 2.6730\n",
      "Epoch 23/50\n",
      "270/270 [==============================] - 0s 313us/sample - loss: 6.8918 - mse: 6.8918 - mae: 1.9558 - val_loss: 15.8301 - val_mse: 15.8301 - val_mae: 2.6355\n",
      "Epoch 24/50\n",
      "270/270 [==============================] - 0s 227us/sample - loss: 6.5513 - mse: 6.5513 - mae: 1.9333 - val_loss: 15.9872 - val_mse: 15.9872 - val_mae: 2.6647\n",
      "Epoch 25/50\n",
      "270/270 [==============================] - 0s 237us/sample - loss: 6.5973 - mse: 6.5973 - mae: 1.9404 - val_loss: 16.1824 - val_mse: 16.1824 - val_mae: 2.6948\n",
      "Epoch 26/50\n",
      "270/270 [==============================] - 0s 239us/sample - loss: 6.5350 - mse: 6.5350 - mae: 1.9201 - val_loss: 16.8776 - val_mse: 16.8776 - val_mae: 2.7486\n",
      "Epoch 27/50\n",
      "270/270 [==============================] - 0s 221us/sample - loss: 6.7706 - mse: 6.7706 - mae: 1.9848 - val_loss: 16.8234 - val_mse: 16.8234 - val_mae: 2.8269\n",
      "Epoch 28/50\n",
      "270/270 [==============================] - 0s 377us/sample - loss: 6.6536 - mse: 6.6536 - mae: 2.0147 - val_loss: 18.5255 - val_mse: 18.5255 - val_mae: 2.9396\n",
      "Epoch 29/50\n",
      "270/270 [==============================] - 0s 245us/sample - loss: 6.8381 - mse: 6.8381 - mae: 1.9017 - val_loss: 16.6074 - val_mse: 16.6074 - val_mae: 2.6858\n",
      "Epoch 30/50\n",
      "270/270 [==============================] - 0s 278us/sample - loss: 5.9496 - mse: 5.9496 - mae: 1.8335 - val_loss: 16.2710 - val_mse: 16.2710 - val_mae: 2.6619\n",
      "Epoch 31/50\n",
      "270/270 [==============================] - 0s 364us/sample - loss: 6.0887 - mse: 6.0887 - mae: 1.8622 - val_loss: 15.7399 - val_mse: 15.7399 - val_mae: 2.5919\n",
      "Epoch 32/50\n",
      "270/270 [==============================] - 0s 323us/sample - loss: 5.4064 - mse: 5.4064 - mae: 1.7371 - val_loss: 15.4307 - val_mse: 15.4307 - val_mae: 2.5584\n",
      "Epoch 33/50\n",
      "270/270 [==============================] - 0s 255us/sample - loss: 5.3720 - mse: 5.3720 - mae: 1.7155 - val_loss: 15.5488 - val_mse: 15.5488 - val_mae: 2.5743\n",
      "Epoch 34/50\n",
      "270/270 [==============================] - 0s 283us/sample - loss: 5.1080 - mse: 5.1080 - mae: 1.6838 - val_loss: 15.3935 - val_mse: 15.3935 - val_mae: 2.5626\n",
      "Epoch 35/50\n",
      "270/270 [==============================] - 0s 407us/sample - loss: 5.0345 - mse: 5.0345 - mae: 1.6653 - val_loss: 15.3207 - val_mse: 15.3207 - val_mae: 2.5638\n",
      "Epoch 36/50\n",
      "270/270 [==============================] - 0s 387us/sample - loss: 5.1781 - mse: 5.1781 - mae: 1.7050 - val_loss: 16.0443 - val_mse: 16.0443 - val_mae: 2.6532\n",
      "Epoch 37/50\n",
      "270/270 [==============================] - 0s 303us/sample - loss: 4.9390 - mse: 4.9390 - mae: 1.6544 - val_loss: 17.5130 - val_mse: 17.5130 - val_mae: 2.9082\n",
      "Epoch 38/50\n",
      "270/270 [==============================] - 0s 242us/sample - loss: 6.1541 - mse: 6.1541 - mae: 1.8858 - val_loss: 15.4489 - val_mse: 15.4489 - val_mae: 2.5890\n",
      "Epoch 39/50\n",
      "270/270 [==============================] - 0s 307us/sample - loss: 5.4374 - mse: 5.4374 - mae: 1.7557 - val_loss: 15.1813 - val_mse: 15.1813 - val_mae: 2.5257\n",
      "Epoch 40/50\n",
      "270/270 [==============================] - 0s 216us/sample - loss: 4.6530 - mse: 4.6530 - mae: 1.6348 - val_loss: 15.1912 - val_mse: 15.1912 - val_mae: 2.5702\n",
      "Epoch 41/50\n",
      "270/270 [==============================] - 0s 212us/sample - loss: 4.6972 - mse: 4.6972 - mae: 1.5931 - val_loss: 15.6023 - val_mse: 15.6023 - val_mae: 2.6006\n",
      "Epoch 42/50\n",
      "270/270 [==============================] - 0s 216us/sample - loss: 4.7373 - mse: 4.7373 - mae: 1.6159 - val_loss: 15.3104 - val_mse: 15.3104 - val_mae: 2.5182\n",
      "Epoch 43/50\n",
      "270/270 [==============================] - 0s 233us/sample - loss: 4.6451 - mse: 4.6451 - mae: 1.6232 - val_loss: 15.4462 - val_mse: 15.4462 - val_mae: 2.5899\n",
      "Epoch 44/50\n",
      "270/270 [==============================] - 0s 208us/sample - loss: 4.4631 - mse: 4.4631 - mae: 1.5875 - val_loss: 15.2657 - val_mse: 15.2657 - val_mae: 2.5346\n",
      "Epoch 45/50\n",
      "270/270 [==============================] - 0s 304us/sample - loss: 4.1944 - mse: 4.1944 - mae: 1.5330 - val_loss: 14.9380 - val_mse: 14.9380 - val_mae: 2.5195\n",
      "Epoch 46/50\n",
      "270/270 [==============================] - 0s 293us/sample - loss: 4.1467 - mse: 4.1467 - mae: 1.5123 - val_loss: 15.1950 - val_mse: 15.1950 - val_mae: 2.5373\n",
      "Epoch 47/50\n",
      "270/270 [==============================] - 0s 278us/sample - loss: 4.0530 - mse: 4.0530 - mae: 1.4861 - val_loss: 14.9366 - val_mse: 14.9366 - val_mae: 2.5072\n",
      "Epoch 48/50\n",
      "270/270 [==============================] - 0s 410us/sample - loss: 4.0789 - mse: 4.0789 - mae: 1.5121 - val_loss: 14.9092 - val_mse: 14.9092 - val_mae: 2.5306\n",
      "Epoch 49/50\n",
      "270/270 [==============================] - 0s 262us/sample - loss: 4.0468 - mse: 4.0468 - mae: 1.5066 - val_loss: 15.0398 - val_mse: 15.0398 - val_mae: 2.5308\n",
      "Epoch 50/50\n",
      "270/270 [==============================] - 0s 271us/sample - loss: 4.0840 - mse: 4.0840 - mae: 1.5218 - val_loss: 14.7082 - val_mse: 14.7082 - val_mae: 2.4795\n"
     ]
    },
    {
     "data": {
      "text/plain": [
       "<tensorflow.python.keras.callbacks.History at 0x1402b2438>"
      ]
     },
     "execution_count": 23,
     "metadata": {},
     "output_type": "execute_result"
    }
   ],
   "source": [
    "# wandb.init(project=\"lambda_dspt3\", entity=\"bjanota\") #Initializes and Experiment\n",
    "\n",
    "# Important Hyperparameters\n",
    "X =  x_train\n",
    "y =  y_train\n",
    "\n",
    "inputs = X.shape[1]\n",
    "wandb.config.epochs = 50\n",
    "wandb.config.batch_size = 10\n",
    "# wandb.config.\n",
    "\n",
    "# Create Model\n",
    "model = Sequential()\n",
    "model.add(Dense(64, activation='relu', input_shape=(inputs,)))\n",
    "model.add(Dense(64, activation='relu'))\n",
    "model.add(Dense(64, activation='relu'))\n",
    "model.add(Dense(1))\n",
    "# Compile Model\n",
    "model.compile(optimizer='adam', loss='mse', metrics=['mse', 'mae'])\n",
    "\n",
    "# Fit Model\n",
    "model.fit(X, y, \n",
    "          validation_split=0.33, \n",
    "          epochs=wandb.config.epochs, \n",
    "          batch_size=wandb.config.batch_size, \n",
    "          callbacks=[WandbCallback()])\n",
    "\n",
    "# model.fit(X, y, validationData=(x_test,y_test),\n",
    "#           epochs=config.epochs, callbacks=[WandbCallback()])\n",
    "\n",
    "# model.save(os.path.join(wandb.run.dir, \"model.h5\"))"
   ]
  },
  {
   "cell_type": "markdown",
   "metadata": {},
   "source": [
    "## Challenge\n",
    "\n",
    "You will be expected to use Weights & Biases to try to tune your model during your module assignment today. "
   ]
  },
  {
   "cell_type": "markdown",
   "metadata": {},
   "source": [
    "# Hyperparameters with RandomSearchCV (Learn)"
   ]
  },
  {
   "cell_type": "markdown",
   "metadata": {},
   "source": [
    "## Overview\n",
    "\n",
    "Basically `GridSearchCV` takes forever. You'll want to adopt a slightly more sophiscated strategy."
   ]
  },
  {
   "cell_type": "markdown",
   "metadata": {},
   "source": [
    "## Follow Along"
   ]
  },
  {
   "cell_type": "code",
   "execution_count": 24,
   "metadata": {},
   "outputs": [],
   "source": [
    "sweep_config = {\n",
    "    'method': 'random',\n",
    "    'parameters': {\n",
    "        'learning_rate': {'distribution': 'normal'},\n",
    "        'epochs': {'distribution': 'uniform',\n",
    "                    'min': 100,\n",
    "                    'max': 1000},\n",
    "        'batch_size': {'distribution': 'uniform',\n",
    "            'min': 10,\n",
    "            'max': 400}\n",
    "    }\n",
    "}"
   ]
  },
  {
   "cell_type": "code",
   "execution_count": 25,
   "metadata": {},
   "outputs": [
    {
     "name": "stdout",
     "output_type": "stream",
     "text": [
      "Create sweep with ID: yva4vgge\n",
      "Sweep URL: https://app.wandb.ai/e-d/unit_4_4/sweeps/yva4vgge\n"
     ]
    }
   ],
   "source": [
    "sweep_id = wandb.sweep(sweep_config)"
   ]
  },
  {
   "cell_type": "code",
   "execution_count": 28,
   "metadata": {},
   "outputs": [],
   "source": [
    "import wandb\n",
    "from wandb.keras import WandbCallback\n",
    "#Initializes and Experiment\n",
    "\n",
    "from tensorflow.keras.optimizers import Adam\n",
    "\n",
    "# Important Hyperparameters\n",
    "X =  x_train\n",
    "y =  y_train\n",
    "\n",
    "inputs = X.shape[1]\n",
    "\n",
    "def train():\n",
    "    \n",
    "#     wandb.init(project=\"lambda_dspt3\", entity=\"bjanota\")\n",
    "    wandb.init(project=\"unit_4_4\")    \n",
    "    \n",
    "    config = wandb.config\n",
    "\n",
    "    # Create Model\n",
    "    model = Sequential()\n",
    "    model.add(Dense(64, activation='relu', input_shape=(inputs,)))\n",
    "    model.add(Dense(64, activation='relu'))\n",
    "    model.add(Dense(64, activation='relu'))\n",
    "    model.add(Dense(1))\n",
    "\n",
    "    # Optimizer \n",
    "    adam = Adam(learning_rate=config.learning_rate)\n",
    "\n",
    "    # Compile Model\n",
    "    model.compile(optimizer=adam, loss='mse', metrics=['mse', 'mae'])\n",
    "\n",
    "    # Fit Model\n",
    "    model.fit(X, y, \n",
    "              validation_split=0.33, \n",
    "              epochs=config.epochs, \n",
    "              batch_size=config.batch_size, \n",
    "              callbacks=[WandbCallback()]\n",
    "             )"
   ]
  },
  {
   "cell_type": "code",
   "execution_count": null,
   "metadata": {},
   "outputs": [],
   "source": [
    "wandb.agent(sweep_id, function=train)"
   ]
  },
  {
   "cell_type": "markdown",
   "metadata": {},
   "source": [
    "## Challenge\n",
    "\n",
    "Try to apply RandomSearchCV to your module project today. "
   ]
  },
  {
   "cell_type": "markdown",
   "metadata": {},
   "source": [
    "# Review\n",
    "* <a href=\"#p1\">Part 1</a>: Describe the major hyperparemeters to tune\n",
    "    - Activation Functions\n",
    "    - Optimizer\n",
    "    - Number of Layers\n",
    "    - Number of Neurons\n",
    "    - Batch Size\n",
    "    - Dropout Regulaization\n",
    "    - Learning Rate\n",
    "    - Number of Epochs\n",
    "    - and many more\n",
    "* <a href=\"#p2\">Part 2</a>: Implement an experiment tracking framework\n",
    "    - Weights & Biases\n",
    "    - Comet.ml\n",
    "    - By Hand / GridSearch\n",
    "* <a href=\"#p3\">Part 3</a>: Search the hyperparameter space using RandomSearch\n",
    "    - Sklearn still useful (haha)\n",
    "    - Integration with Wieghts & Biases\n",
    "* <a href=\"#p4\">Part 4</a>: Discuss emerging hyperparameter tuning strategies\n",
    "    - Bayesian Optimization\n",
    "    - Hyperopt\n",
    "    - Genetic Evolution"
   ]
  },
  {
   "cell_type": "markdown",
   "metadata": {},
   "source": [
    "# Sources"
   ]
  },
  {
   "cell_type": "markdown",
   "metadata": {},
   "source": [
    "## Additional Reading\n",
    "- https://machinelearningmastery.com/grid-search-hyperparameters-deep-learning-models-python-keras/\n",
    "- https://blog.floydhub.com/guide-to-hyperparameters-search-for-deep-learning-models/\n",
    "- https://machinelearningmastery.com/dropout-regularization-deep-learning-models-keras/\n",
    "- https://machinelearningmastery.com/introduction-to-weight-constraints-to-reduce-generalization-error-in-deep-learning/\n",
    "- https://machinelearningmastery.com/how-to-configure-the-number-of-layers-and-nodes-in-a-neural-network/"
   ]
  }
 ],
 "metadata": {
  "kernelspec": {
   "display_name": "U4-S1-NLP (Python3)",
   "language": "python",
   "name": "u4-s1-nlp"
  },
  "language_info": {
   "codemirror_mode": {
    "name": "ipython",
    "version": 3
   },
   "file_extension": ".py",
   "mimetype": "text/x-python",
   "name": "python",
   "nbconvert_exporter": "python",
   "pygments_lexer": "ipython3",
   "version": "3.7.0"
  }
 },
 "nbformat": 4,
 "nbformat_minor": 4
}
