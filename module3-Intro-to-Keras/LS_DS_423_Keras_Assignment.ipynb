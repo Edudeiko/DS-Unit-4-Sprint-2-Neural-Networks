{
 "cells": [
  {
   "cell_type": "markdown",
   "metadata": {
    "colab_type": "text",
    "id": "pBQsZEJmubLs"
   },
   "source": [
    "<img align=\"left\" src=\"https://lever-client-logos.s3.amazonaws.com/864372b1-534c-480e-acd5-9711f850815c-1524247202159.png\" width=200>\n",
    "<br></br>\n",
    "\n",
    "# Neural Network Framework (Keras)\n",
    "\n",
    "## *Data Science Unit 4 Sprint 2 Assignment 3*\n",
    "\n",
    "## Use the Keras Library to build a Multi-Layer Perceptron Model on the Boston Housing dataset\n",
    "\n",
    "- The Boston Housing dataset comes with the Keras library so use Keras to import it into your notebook. \n",
    "- Normalize the data (all features should have roughly the same scale)\n",
    "- Import the type of model and layers that you will need from Keras.\n",
    "- Instantiate a model object and use `model.add()` to add layers to your model\n",
    "- Since this is a regression model you will have a single output node in the final layer.\n",
    "- Use activation functions that are appropriate for this task\n",
    "- Compile your model\n",
    "- Fit your model and report its accuracy in terms of Mean Squared Error\n",
    "- Use the history object that is returned from model.fit to make graphs of the model's loss or train/validation accuracies by epoch. \n",
    "- Run this same data through a linear regression model. Which achieves higher accuracy?\n",
    "- Do a little bit of feature engineering and see how that affects your neural network model. (you will need to change your model to accept more inputs)\n",
    "- After feature engineering, which model sees a greater accuracy boost due to the new features?"
   ]
  },
  {
   "cell_type": "code",
   "execution_count": 255,
   "metadata": {
    "colab": {},
    "colab_type": "code",
    "id": "8NLTAR87uYJ-"
   },
   "outputs": [],
   "source": [
    "import tensorflow as tf\n",
    "from tensorflow import keras\n",
    "from tensorflow.keras.models import Sequential\n",
    "from tensorflow.keras.layers import Dense, Dropout, Activation, Flatten, Conv2D, MaxPooling2D\n",
    "import numpy as np\n",
    "import matplotlib.pyplot as plt\n",
    "\n",
    "from tensorflow.keras.datasets import boston_housing"
   ]
  },
  {
   "cell_type": "code",
   "execution_count": 256,
   "metadata": {},
   "outputs": [],
   "source": [
    "# Load data\n",
    "\n",
    "(x_train, y_train), (x_test, y_test) = boston_housing.load_data()"
   ]
  },
  {
   "cell_type": "markdown",
   "metadata": {},
   "source": [
    "##### Let's have a look at the shape of the data"
   ]
  },
  {
   "cell_type": "code",
   "execution_count": 257,
   "metadata": {},
   "outputs": [
    {
     "data": {
      "text/plain": [
       "((404, 13), (102, 13))"
      ]
     },
     "execution_count": 257,
     "metadata": {},
     "output_type": "execute_result"
    }
   ],
   "source": [
    "x_train.shape, x_test.shape"
   ]
  },
  {
   "cell_type": "code",
   "execution_count": 258,
   "metadata": {},
   "outputs": [
    {
     "data": {
      "text/plain": [
       "(array([  1.23247,   0.     ,   8.14   ,   0.     ,   0.538  ,   6.142  ,\n",
       "         91.7    ,   3.9769 ,   4.     , 307.     ,  21.     , 396.9    ,\n",
       "         18.72   ]),\n",
       " array([ 18.0846,   0.    ,  18.1   ,   0.    ,   0.679 ,   6.434 ,\n",
       "        100.    ,   1.8347,  24.    , 666.    ,  20.2   ,  27.25  ,\n",
       "         29.05  ]))"
      ]
     },
     "execution_count": 258,
     "metadata": {},
     "output_type": "execute_result"
    }
   ],
   "source": [
    "x_train[0], x_test[0]"
   ]
  },
  {
   "cell_type": "code",
   "execution_count": 260,
   "metadata": {},
   "outputs": [
    {
     "data": {
      "text/plain": [
       "(15.2, 7.2)"
      ]
     },
     "execution_count": 260,
     "metadata": {},
     "output_type": "execute_result"
    }
   ],
   "source": [
    "y_train[0], y_test[0]"
   ]
  },
  {
   "cell_type": "code",
   "execution_count": 261,
   "metadata": {},
   "outputs": [
    {
     "name": "stdout",
     "output_type": "stream",
     "text": [
      "Label number: 15.2\n"
     ]
    },
    {
     "data": {
      "image/png": "[encoded data removed]",
      "text/plain": [
       "<Figure size 432x288 with 1 Axes>"
      ]
     },
     "metadata": {
      "needs_background": "light"
     },
     "output_type": "display_data"
    }
   ],
   "source": [
    "print('Label number:', y_train[0])\n",
    "plt.grid(True)\n",
    "plt.plot(x_train[0]);"
   ]
  },
  {
   "cell_type": "markdown",
   "metadata": {},
   "source": [
    "##### Normalize the data (all features should have roughly the same scale)"
   ]
  },
  {
   "cell_type": "code",
   "execution_count": 262,
   "metadata": {},
   "outputs": [],
   "source": [
    "from sklearn.preprocessing import StandardScaler"
   ]
  },
  {
   "cell_type": "code",
   "execution_count": 263,
   "metadata": {},
   "outputs": [],
   "source": [
    "scaler = StandardScaler()"
   ]
  },
  {
   "cell_type": "code",
   "execution_count": 264,
   "metadata": {},
   "outputs": [
    {
     "data": {
      "text/plain": [
       "StandardScaler(copy=True, with_mean=True, with_std=True)"
      ]
     },
     "execution_count": 264,
     "metadata": {},
     "output_type": "execute_result"
    }
   ],
   "source": [
    "# FIRST fit scaler on the x_train dataset\n",
    "scaler.fit(x_train)"
   ]
  },
  {
   "cell_type": "code",
   "execution_count": 265,
   "metadata": {},
   "outputs": [],
   "source": [
    "# transform to scale both datasets\n",
    "X_train_scaled = scaler.transform(x_train)\n",
    "X_test_scaled = scaler.transform(x_test)"
   ]
  },
  {
   "cell_type": "code",
   "execution_count": 266,
   "metadata": {},
   "outputs": [
    {
     "name": "stdout",
     "output_type": "stream",
     "text": [
      "Scaled train set: [-0.27224633 -0.48361547 -0.43576161 -0.25683275 -0.1652266  -0.1764426\n",
      "  0.81306188  0.1166983  -0.62624905 -0.59517003  1.14850044  0.44807713\n",
      "  0.8252202 ]\n"
     ]
    }
   ],
   "source": [
    "print('Scaled train set:', X_train_scaled[0])"
   ]
  },
  {
   "cell_type": "markdown",
   "metadata": {},
   "source": [
    "##### Import the type of model and layers that you will need from Keras."
   ]
  },
  {
   "cell_type": "code",
   "execution_count": 267,
   "metadata": {},
   "outputs": [],
   "source": [
    "# Importing the required Keras modules containing model and layers\n",
    "\n",
    "from keras.models import Sequential\n",
    "from keras.layers import Dense, Conv2D, Dropout, Activation, Flatten, MaxPooling2D\n",
    "\n",
    "# from keras import models, layers"
   ]
  },
  {
   "cell_type": "markdown",
   "metadata": {},
   "source": [
    "##### Instantiate a model object and use model.add() to add layers to your model"
   ]
  },
  {
   "cell_type": "code",
   "execution_count": 268,
   "metadata": {},
   "outputs": [],
   "source": [
    "# Creating a Sequential Model and adding the layers\n",
    "\n",
    "model = Sequential()\n",
    "# Use activation functions that are appropriate for this task\n",
    "# model.add(Dense(128, activation=tf.nn.sigmoid, input_shape=(x_train.shape[1],))),\n",
    "model.add(Dense(64, activation=tf.nn.relu, input_shape=(x_train.shape[1],))),\n",
    "# model.add(Dropout(0.2)),\n",
    "model.add(Dense(8, activation='relu')),\n",
    "# model.add(Dropout(0.2)),\n",
    "model.add(Dense(16, activation='relu')),\n",
    "# Since this is a regression model you will have a single output node in the final layer.\n",
    "# model.add(Dense(1,activation=tf.nn.softmax))\n",
    "model.add(Dense(1))"
   ]
  },
  {
   "cell_type": "markdown",
   "metadata": {},
   "source": [
    "##### Compile your model"
   ]
  },
  {
   "cell_type": "code",
   "execution_count": 269,
   "metadata": {},
   "outputs": [],
   "source": [
    "model.compile(loss='mae', optimizer='rmsprop', metrics=['mse'])"
   ]
  },
  {
   "cell_type": "markdown",
   "metadata": {},
   "source": [
    "##### Fit your model and report its accuracy in terms of Mean Squared Error"
   ]
  },
  {
   "cell_type": "code",
   "execution_count": 270,
   "metadata": {},
   "outputs": [
    {
     "name": "stdout",
     "output_type": "stream",
     "text": [
      "Train on 323 samples, validate on 81 samples\n",
      "Epoch 1/100\n",
      "323/323 [==============================] - 0s 449us/step - loss: 22.1254 - mse: 573.9427 - val_loss: 23.6172 - val_mse: 642.5397\n",
      "Epoch 2/100\n",
      "323/323 [==============================] - 0s 91us/step - loss: 22.0167 - mse: 569.0096 - val_loss: 23.5547 - val_mse: 639.5918\n",
      "Epoch 3/100\n",
      "323/323 [==============================] - 0s 105us/step - loss: 21.9424 - mse: 565.8532 - val_loss: 23.4395 - val_mse: 634.3221\n",
      "Epoch 4/100\n",
      "323/323 [==============================] - 0s 62us/step - loss: 21.7900 - mse: 559.1740 - val_loss: 23.2302 - val_mse: 624.7272\n",
      "Epoch 5/100\n",
      "323/323 [==============================] - 0s 98us/step - loss: 21.5324 - mse: 547.9320 - val_loss: 22.9060 - val_mse: 609.7997\n",
      "Epoch 6/100\n",
      "323/323 [==============================] - 0s 58us/step - loss: 21.1605 - mse: 531.6974 - val_loss: 22.4874 - val_mse: 590.9434\n",
      "Epoch 7/100\n",
      "323/323 [==============================] - 0s 89us/step - loss: 20.6994 - mse: 511.9818 - val_loss: 21.9645 - val_mse: 567.7490\n",
      "Epoch 8/100\n",
      "323/323 [==============================] - 0s 93us/step - loss: 20.1264 - mse: 488.0152 - val_loss: 21.3289 - val_mse: 540.1619\n",
      "Epoch 9/100\n",
      "323/323 [==============================] - 0s 69us/step - loss: 19.3977 - mse: 457.5809 - val_loss: 20.4595 - val_mse: 502.5540\n",
      "Epoch 10/100\n",
      "323/323 [==============================] - 0s 101us/step - loss: 18.4734 - mse: 420.4183 - val_loss: 19.4342 - val_mse: 460.9648\n",
      "Epoch 11/100\n",
      "323/323 [==============================] - 0s 70us/step - loss: 17.3616 - mse: 378.8749 - val_loss: 18.2222 - val_mse: 414.1740\n",
      "Epoch 12/100\n",
      "323/323 [==============================] - 0s 99us/step - loss: 16.0104 - mse: 331.1145 - val_loss: 16.8466 - val_mse: 365.6066\n",
      "Epoch 13/100\n",
      "323/323 [==============================] - 0s 85us/step - loss: 14.6028 - mse: 284.1197 - val_loss: 15.0789 - val_mse: 308.5526\n",
      "Epoch 14/100\n",
      "323/323 [==============================] - 0s 58us/step - loss: 12.8426 - mse: 231.3743 - val_loss: 13.1600 - val_mse: 255.0199\n",
      "Epoch 15/100\n",
      "323/323 [==============================] - 0s 95us/step - loss: 11.0799 - mse: 185.1947 - val_loss: 11.2958 - val_mse: 207.2247\n",
      "Epoch 16/100\n",
      "323/323 [==============================] - 0s 92us/step - loss: 9.4739 - mse: 146.1525 - val_loss: 9.8298 - val_mse: 169.7827\n",
      "Epoch 17/100\n",
      "323/323 [==============================] - 0s 91us/step - loss: 8.3118 - mse: 118.0216 - val_loss: 8.8268 - val_mse: 142.0131\n",
      "Epoch 18/100\n",
      "323/323 [==============================] - 0s 57us/step - loss: 7.5402 - mse: 99.7494 - val_loss: 8.2467 - val_mse: 124.6732\n",
      "Epoch 19/100\n",
      "323/323 [==============================] - 0s 103us/step - loss: 6.9763 - mse: 87.5871 - val_loss: 7.8113 - val_mse: 110.4450\n",
      "Epoch 20/100\n",
      "323/323 [==============================] - 0s 98us/step - loss: 6.4989 - mse: 78.1459 - val_loss: 7.3479 - val_mse: 101.1955\n",
      "Epoch 21/100\n",
      "323/323 [==============================] - 0s 98us/step - loss: 6.0819 - mse: 70.5190 - val_loss: 6.8960 - val_mse: 90.7826\n",
      "Epoch 22/100\n",
      "323/323 [==============================] - 0s 92us/step - loss: 5.7081 - mse: 63.9866 - val_loss: 6.5332 - val_mse: 81.8354\n",
      "Epoch 23/100\n",
      "323/323 [==============================] - 0s 103us/step - loss: 5.3235 - mse: 56.6531 - val_loss: 6.1927 - val_mse: 74.9759\n",
      "Epoch 24/100\n",
      "323/323 [==============================] - 0s 101us/step - loss: 5.0082 - mse: 51.1311 - val_loss: 5.8378 - val_mse: 67.5074\n",
      "Epoch 25/100\n",
      "323/323 [==============================] - 0s 101us/step - loss: 4.7018 - mse: 46.5311 - val_loss: 5.4265 - val_mse: 60.0310\n",
      "Epoch 26/100\n",
      "323/323 [==============================] - 0s 64us/step - loss: 4.3768 - mse: 41.3661 - val_loss: 5.2334 - val_mse: 57.5501\n",
      "Epoch 27/100\n",
      "323/323 [==============================] - 0s 85us/step - loss: 4.1363 - mse: 38.8645 - val_loss: 4.8630 - val_mse: 50.0023\n",
      "Epoch 28/100\n",
      "323/323 [==============================] - 0s 56us/step - loss: 3.8586 - mse: 34.9062 - val_loss: 4.6133 - val_mse: 44.6805\n",
      "Epoch 29/100\n",
      "323/323 [==============================] - 0s 92us/step - loss: 3.6618 - mse: 32.0717 - val_loss: 4.5680 - val_mse: 44.2435\n",
      "Epoch 30/100\n",
      "323/323 [==============================] - 0s 56us/step - loss: 3.5240 - mse: 30.7874 - val_loss: 4.3608 - val_mse: 40.9941\n",
      "Epoch 31/100\n",
      "323/323 [==============================] - 0s 85us/step - loss: 3.3793 - mse: 28.9639 - val_loss: 4.1551 - val_mse: 37.2819\n",
      "Epoch 32/100\n",
      "323/323 [==============================] - 0s 58us/step - loss: 3.2738 - mse: 27.2923 - val_loss: 4.0983 - val_mse: 37.0072\n",
      "Epoch 33/100\n",
      "323/323 [==============================] - 0s 83us/step - loss: 3.1815 - mse: 26.7524 - val_loss: 4.0742 - val_mse: 34.4809\n",
      "Epoch 34/100\n",
      "323/323 [==============================] - 0s 59us/step - loss: 3.0985 - mse: 25.2502 - val_loss: 3.7654 - val_mse: 31.7095\n",
      "Epoch 35/100\n",
      "323/323 [==============================] - 0s 79us/step - loss: 3.0237 - mse: 24.5633 - val_loss: 3.6868 - val_mse: 30.5543\n",
      "Epoch 36/100\n",
      "323/323 [==============================] - 0s 58us/step - loss: 2.9530 - mse: 23.8550 - val_loss: 3.6499 - val_mse: 30.2116\n",
      "Epoch 37/100\n",
      "323/323 [==============================] - 0s 85us/step - loss: 2.9162 - mse: 23.0931 - val_loss: 3.7349 - val_mse: 29.4308\n",
      "Epoch 38/100\n",
      "323/323 [==============================] - 0s 78us/step - loss: 2.8776 - mse: 22.4576 - val_loss: 3.5808 - val_mse: 27.5879\n",
      "Epoch 39/100\n",
      "323/323 [==============================] - 0s 54us/step - loss: 2.7937 - mse: 21.6248 - val_loss: 3.3446 - val_mse: 25.4557\n",
      "Epoch 40/100\n",
      "323/323 [==============================] - 0s 85us/step - loss: 2.7401 - mse: 21.0682 - val_loss: 3.3888 - val_mse: 25.9766\n",
      "Epoch 41/100\n",
      "323/323 [==============================] - 0s 53us/step - loss: 2.7186 - mse: 20.8245 - val_loss: 3.3562 - val_mse: 25.1020\n",
      "Epoch 42/100\n",
      "323/323 [==============================] - 0s 104us/step - loss: 2.6657 - mse: 20.1725 - val_loss: 3.3918 - val_mse: 24.8952\n",
      "Epoch 43/100\n",
      "323/323 [==============================] - 0s 57us/step - loss: 2.6263 - mse: 19.6581 - val_loss: 3.1362 - val_mse: 22.9930\n",
      "Epoch 44/100\n",
      "323/323 [==============================] - 0s 78us/step - loss: 2.5949 - mse: 19.0949 - val_loss: 3.2833 - val_mse: 23.7175\n",
      "Epoch 45/100\n",
      "323/323 [==============================] - 0s 56us/step - loss: 2.5727 - mse: 18.8637 - val_loss: 3.3257 - val_mse: 23.8676\n",
      "Epoch 46/100\n",
      "323/323 [==============================] - 0s 95us/step - loss: 2.5662 - mse: 18.8389 - val_loss: 3.0972 - val_mse: 21.1431\n",
      "Epoch 47/100\n",
      "323/323 [==============================] - 0s 65us/step - loss: 2.5043 - mse: 17.9340 - val_loss: 3.3087 - val_mse: 22.6765\n",
      "Epoch 48/100\n",
      "323/323 [==============================] - 0s 79us/step - loss: 2.5060 - mse: 17.8217 - val_loss: 2.9841 - val_mse: 20.7654\n",
      "Epoch 49/100\n",
      "323/323 [==============================] - 0s 56us/step - loss: 2.4395 - mse: 17.1354 - val_loss: 2.9326 - val_mse: 19.1368\n",
      "Epoch 50/100\n",
      "323/323 [==============================] - 0s 86us/step - loss: 2.3923 - mse: 16.5403 - val_loss: 3.0466 - val_mse: 19.7917\n",
      "Epoch 51/100\n",
      "323/323 [==============================] - 0s 74us/step - loss: 2.3772 - mse: 15.9735 - val_loss: 3.0852 - val_mse: 21.6853\n",
      "Epoch 52/100\n",
      "323/323 [==============================] - 0s 77us/step - loss: 2.4005 - mse: 16.6901 - val_loss: 2.9886 - val_mse: 20.0828\n",
      "Epoch 53/100\n",
      "323/323 [==============================] - 0s 84us/step - loss: 2.3302 - mse: 16.2039 - val_loss: 2.8777 - val_mse: 18.1929\n",
      "Epoch 54/100\n",
      "323/323 [==============================] - 0s 53us/step - loss: 2.2848 - mse: 15.4880 - val_loss: 3.0014 - val_mse: 20.0072\n",
      "Epoch 55/100\n",
      "323/323 [==============================] - 0s 104us/step - loss: 2.3055 - mse: 15.7160 - val_loss: 2.8914 - val_mse: 18.7912\n",
      "Epoch 56/100\n",
      "323/323 [==============================] - 0s 116us/step - loss: 2.2740 - mse: 15.2281 - val_loss: 2.9381 - val_mse: 18.3475\n",
      "Epoch 57/100\n",
      "323/323 [==============================] - 0s 152us/step - loss: 2.2631 - mse: 15.3738 - val_loss: 2.8294 - val_mse: 17.5813\n",
      "Epoch 58/100\n",
      "323/323 [==============================] - 0s 132us/step - loss: 2.2249 - mse: 14.9427 - val_loss: 2.6833 - val_mse: 16.3057\n",
      "Epoch 59/100\n",
      "323/323 [==============================] - 0s 73us/step - loss: 2.2336 - mse: 14.5118 - val_loss: 2.9868 - val_mse: 18.2497\n"
     ]
    },
    {
     "name": "stdout",
     "output_type": "stream",
     "text": [
      "Epoch 60/100\n",
      "323/323 [==============================] - 0s 87us/step - loss: 2.2063 - mse: 14.7069 - val_loss: 2.9904 - val_mse: 18.0527\n",
      "Epoch 61/100\n",
      "323/323 [==============================] - 0s 67us/step - loss: 2.2084 - mse: 14.3906 - val_loss: 2.8971 - val_mse: 18.8237\n",
      "Epoch 62/100\n",
      "323/323 [==============================] - 0s 64us/step - loss: 2.2055 - mse: 14.6776 - val_loss: 2.8237 - val_mse: 17.7213\n",
      "Epoch 63/100\n",
      "323/323 [==============================] - 0s 80us/step - loss: 2.1579 - mse: 14.2974 - val_loss: 2.6334 - val_mse: 15.5942\n",
      "Epoch 64/100\n",
      "323/323 [==============================] - 0s 64us/step - loss: 2.1617 - mse: 14.0618 - val_loss: 2.6332 - val_mse: 15.7572\n",
      "Epoch 65/100\n",
      "323/323 [==============================] - 0s 75us/step - loss: 2.1380 - mse: 13.6759 - val_loss: 2.8343 - val_mse: 16.6560\n",
      "Epoch 66/100\n",
      "323/323 [==============================] - 0s 67us/step - loss: 2.1305 - mse: 13.7662 - val_loss: 2.6642 - val_mse: 15.2858\n",
      "Epoch 67/100\n",
      "323/323 [==============================] - 0s 69us/step - loss: 2.1358 - mse: 13.4877 - val_loss: 2.6286 - val_mse: 15.3946\n",
      "Epoch 68/100\n",
      "323/323 [==============================] - 0s 81us/step - loss: 2.1108 - mse: 13.3211 - val_loss: 2.9621 - val_mse: 16.8484\n",
      "Epoch 69/100\n",
      "323/323 [==============================] - 0s 82us/step - loss: 2.1485 - mse: 13.3908 - val_loss: 2.6339 - val_mse: 15.2499\n",
      "Epoch 70/100\n",
      "323/323 [==============================] - 0s 67us/step - loss: 2.0959 - mse: 13.1615 - val_loss: 2.7700 - val_mse: 16.8709\n",
      "Epoch 71/100\n",
      "323/323 [==============================] - 0s 65us/step - loss: 2.1094 - mse: 13.5171 - val_loss: 2.7134 - val_mse: 15.4008\n",
      "Epoch 72/100\n",
      "323/323 [==============================] - 0s 79us/step - loss: 2.0776 - mse: 13.2465 - val_loss: 2.6190 - val_mse: 15.7106\n",
      "Epoch 73/100\n",
      "323/323 [==============================] - 0s 51us/step - loss: 2.0590 - mse: 12.8619 - val_loss: 2.8833 - val_mse: 16.4980\n",
      "Epoch 74/100\n",
      "323/323 [==============================] - 0s 79us/step - loss: 2.0975 - mse: 13.3599 - val_loss: 2.7630 - val_mse: 15.9092\n",
      "Epoch 75/100\n",
      "323/323 [==============================] - 0s 68us/step - loss: 2.0616 - mse: 13.1853 - val_loss: 2.5687 - val_mse: 14.4135\n",
      "Epoch 76/100\n",
      "323/323 [==============================] - 0s 60us/step - loss: 2.0716 - mse: 13.0454 - val_loss: 2.7838 - val_mse: 16.5598\n",
      "Epoch 77/100\n",
      "323/323 [==============================] - 0s 85us/step - loss: 2.0521 - mse: 13.3792 - val_loss: 2.6549 - val_mse: 15.9115\n",
      "Epoch 78/100\n",
      "323/323 [==============================] - 0s 71us/step - loss: 2.0738 - mse: 13.0141 - val_loss: 2.8106 - val_mse: 15.6318\n",
      "Epoch 79/100\n",
      "323/323 [==============================] - 0s 101us/step - loss: 2.0519 - mse: 12.9441 - val_loss: 2.7503 - val_mse: 16.2233\n",
      "Epoch 80/100\n",
      "323/323 [==============================] - 0s 88us/step - loss: 2.0395 - mse: 12.9353 - val_loss: 2.6242 - val_mse: 14.9507\n",
      "Epoch 81/100\n",
      "323/323 [==============================] - 0s 95us/step - loss: 2.0190 - mse: 12.4954 - val_loss: 2.6264 - val_mse: 15.1556\n",
      "Epoch 82/100\n",
      "323/323 [==============================] - 0s 88us/step - loss: 2.0432 - mse: 12.9259 - val_loss: 2.6319 - val_mse: 15.3910\n",
      "Epoch 83/100\n",
      "323/323 [==============================] - 0s 72us/step - loss: 2.0218 - mse: 12.7521 - val_loss: 2.7829 - val_mse: 15.1502\n",
      "Epoch 84/100\n",
      "323/323 [==============================] - 0s 72us/step - loss: 2.0327 - mse: 12.7333 - val_loss: 2.6347 - val_mse: 14.3994\n",
      "Epoch 85/100\n",
      "323/323 [==============================] - 0s 76us/step - loss: 2.0025 - mse: 12.3939 - val_loss: 2.6794 - val_mse: 14.6104\n",
      "Epoch 86/100\n",
      "323/323 [==============================] - 0s 68us/step - loss: 1.9977 - mse: 12.4157 - val_loss: 2.7545 - val_mse: 14.7538\n",
      "Epoch 87/100\n",
      "323/323 [==============================] - 0s 69us/step - loss: 2.0042 - mse: 12.4128 - val_loss: 2.6225 - val_mse: 14.6507\n",
      "Epoch 88/100\n",
      "323/323 [==============================] - 0s 71us/step - loss: 1.9888 - mse: 12.2459 - val_loss: 2.6509 - val_mse: 14.8930\n",
      "Epoch 89/100\n",
      "323/323 [==============================] - 0s 72us/step - loss: 1.9837 - mse: 12.2711 - val_loss: 2.5865 - val_mse: 14.1748\n",
      "Epoch 90/100\n",
      "323/323 [==============================] - 0s 69us/step - loss: 1.9736 - mse: 12.3165 - val_loss: 2.7118 - val_mse: 14.8304\n",
      "Epoch 91/100\n",
      "323/323 [==============================] - 0s 56us/step - loss: 1.9938 - mse: 12.2193 - val_loss: 2.5892 - val_mse: 13.7221\n",
      "Epoch 92/100\n",
      "323/323 [==============================] - 0s 71us/step - loss: 1.9806 - mse: 11.9224 - val_loss: 2.7063 - val_mse: 15.4632\n",
      "Epoch 93/100\n",
      "323/323 [==============================] - 0s 84us/step - loss: 1.9978 - mse: 12.3249 - val_loss: 2.6101 - val_mse: 14.5775\n",
      "Epoch 94/100\n",
      "323/323 [==============================] - 0s 127us/step - loss: 1.9793 - mse: 12.0414 - val_loss: 2.6576 - val_mse: 14.2970\n",
      "Epoch 95/100\n",
      "323/323 [==============================] - 0s 109us/step - loss: 1.9761 - mse: 11.8713 - val_loss: 2.5447 - val_mse: 13.2054\n",
      "Epoch 96/100\n",
      "323/323 [==============================] - 0s 90us/step - loss: 1.9762 - mse: 11.9324 - val_loss: 2.6074 - val_mse: 13.5237\n",
      "Epoch 97/100\n",
      "323/323 [==============================] - 0s 96us/step - loss: 1.9382 - mse: 11.7752 - val_loss: 2.5582 - val_mse: 13.5877\n",
      "Epoch 98/100\n",
      "323/323 [==============================] - 0s 112us/step - loss: 1.9424 - mse: 11.8811 - val_loss: 2.6203 - val_mse: 14.2783\n",
      "Epoch 99/100\n",
      "323/323 [==============================] - 0s 86us/step - loss: 1.9745 - mse: 12.0023 - val_loss: 2.6316 - val_mse: 13.9564\n",
      "Epoch 100/100\n",
      "323/323 [==============================] - 0s 97us/step - loss: 1.9309 - mse: 11.8123 - val_loss: 2.5440 - val_mse: 13.0935\n"
     ]
    },
    {
     "data": {
      "text/plain": [
       "<keras.callbacks.callbacks.History at 0x14937cb90>"
      ]
     },
     "execution_count": 270,
     "metadata": {},
     "output_type": "execute_result"
    }
   ],
   "source": [
    "results = model.fit(X_train_scaled, y_train, validation_split=0.2, epochs=100)\n",
    "results"
   ]
  },
  {
   "cell_type": "markdown",
   "metadata": {},
   "source": [
    "##### Use the history object that is returned from model.fit to make graphs of the model's loss or train/validation accuracies by epoch."
   ]
  },
  {
   "cell_type": "code",
   "execution_count": 271,
   "metadata": {},
   "outputs": [
    {
     "data": {
      "image/png": "[encoded data removed]",
      "text/plain": [
       "<Figure size 432x288 with 1 Axes>"
      ]
     },
     "metadata": {
      "needs_background": "light"
     },
     "output_type": "display_data"
    }
   ],
   "source": [
    "plt.grid(True)\n",
    "plt.plot(results.history['loss']);"
   ]
  },
  {
   "cell_type": "code",
   "execution_count": 289,
   "metadata": {},
   "outputs": [
    {
     "name": "stdout",
     "output_type": "stream",
     "text": [
      "102/102 [==============================] - 0s 78us/step\n"
     ]
    },
    {
     "data": {
      "text/plain": [
       "[2.5884643909977934, 14.898442268371582]"
      ]
     },
     "execution_count": 289,
     "metadata": {},
     "output_type": "execute_result"
    }
   ],
   "source": [
    "scores = model.evaluate(X_test_scaled, y_test)\n",
    "scores"
   ]
  },
  {
   "cell_type": "code",
   "execution_count": 291,
   "metadata": {},
   "outputs": [
    {
     "name": "stdout",
     "output_type": "stream",
     "text": [
      "Validation Data Metrics:\n",
      "loss: 2.5884643909977934\n",
      "mse: 1489.8442268371582\n"
     ]
    }
   ],
   "source": [
    "# print(\"\\n\")\n",
    "print(\"Validation Data Metrics:\")\n",
    "print(f\"{model.metrics_names[0]}: {scores[0]}\")\n",
    "print(f\"{model.metrics_names[1]}: {scores[1]*100}\")"
   ]
  },
  {
   "cell_type": "code",
   "execution_count": 288,
   "metadata": {},
   "outputs": [
    {
     "name": "stdout",
     "output_type": "stream",
     "text": [
      "Prediction of the selected 5 rows:\n",
      " [[18.267889]\n",
      " [25.172928]\n",
      " [22.410538]\n",
      " [16.532534]\n",
      " [15.651946]]\n",
      "Actual values of the selected 5 rows:\n",
      " [15.2 24.7 22.2 16.7 12.7]\n"
     ]
    }
   ],
   "source": [
    "pred = model.predict(X_train_scaled[40:45])\n",
    "print('Prediction of the selected 5 rows:\\n', pred)\n",
    "print('Actual values of the selected 5 rows:\\n', y_train[40:45])"
   ]
  },
  {
   "cell_type": "markdown",
   "metadata": {},
   "source": [
    "##### Run this same data through a linear regression model. Which achieves higher accuracy?"
   ]
  },
  {
   "cell_type": "code",
   "execution_count": 273,
   "metadata": {},
   "outputs": [],
   "source": [
    "from sklearn.linear_model import LinearRegression\n",
    "from sklearn.metrics import mean_squared_error"
   ]
  },
  {
   "cell_type": "code",
   "execution_count": 274,
   "metadata": {},
   "outputs": [],
   "source": [
    "lr = LinearRegression()"
   ]
  },
  {
   "cell_type": "code",
   "execution_count": 275,
   "metadata": {},
   "outputs": [
    {
     "data": {
      "text/plain": [
       "LinearRegression(copy_X=True, fit_intercept=True, n_jobs=None, normalize=False)"
      ]
     },
     "execution_count": 275,
     "metadata": {},
     "output_type": "execute_result"
    }
   ],
   "source": [
    "# Fit the Linear model\n",
    "lr.fit(X_train_scaled,y_train)"
   ]
  },
  {
   "cell_type": "code",
   "execution_count": 276,
   "metadata": {},
   "outputs": [
    {
     "name": "stdout",
     "output_type": "stream",
     "text": [
      "Train msError: 22.00\n",
      "Test msError: 23.20\n"
     ]
    }
   ],
   "source": [
    "# Predict train set\n",
    "y_pred = lr.predict(X_train_scaled)\n",
    "mse = mean_squared_error(y_train, y_pred)\n",
    "print(f'Train msError: {mse:.2f}')\n",
    "\n",
    "# Apply the Linear model to test data\n",
    "y_pred = lr.predict(X_test_scaled)\n",
    "mse = mean_squared_error(y_test, y_pred)\n",
    "print(f'Test msError: {mse:.2f}')"
   ]
  },
  {
   "cell_type": "markdown",
   "metadata": {},
   "source": [
    "##### Sequential model got a higher accurancy VS Linear Regression"
   ]
  },
  {
   "cell_type": "code",
   "execution_count": null,
   "metadata": {},
   "outputs": [],
   "source": []
  },
  {
   "cell_type": "markdown",
   "metadata": {
    "colab_type": "text",
    "id": "SfcFnOONyuNm"
   },
   "source": [
    "## Use the Keras Library to build an image recognition network using the Fashion-MNIST dataset (also comes with keras)\n",
    "\n",
    "- Load and preprocess the image data similar to how we preprocessed the MNIST data in class.\n",
    "- Make sure to one-hot encode your category labels\n",
    "- The number of nodes in your output layer should equal the number of classes you want to predict for Fashion-MNIST.\n",
    "- Try different hyperparameters. What is the highest accuracy that you are able to achieve.\n",
    "- Use the history object that is returned from model.fit to make graphs of the model's loss or train/validation accuracies by epoch. \n",
    "- Remember that neural networks fall prey to randomness so you may need to run your model multiple times (or use Cross Validation) in order to tell if a change to a hyperparameter is truly producing better results."
   ]
  },
  {
   "cell_type": "markdown",
   "metadata": {},
   "source": [
    "### Load data"
   ]
  },
  {
   "cell_type": "code",
   "execution_count": 1,
   "metadata": {
    "colab": {},
    "colab_type": "code",
    "id": "szi6-IpuzaH1"
   },
   "outputs": [
    {
     "name": "stderr",
     "output_type": "stream",
     "text": [
      "Using TensorFlow backend.\n"
     ]
    }
   ],
   "source": [
    "import keras\n",
    "from keras.datasets import fashion_mnist \n",
    "from keras.layers import Dense, Activation, Flatten, Conv2D, MaxPooling2D\n",
    "from keras.models import Sequential\n",
    "from keras.utils import to_categorical\n",
    "import numpy as np\n",
    "import matplotlib.pyplot as plt"
   ]
  },
  {
   "cell_type": "code",
   "execution_count": 2,
   "metadata": {},
   "outputs": [],
   "source": [
    "(train_X,train_Y), (test_X,test_Y) = fashion_mnist.load_data()"
   ]
  },
  {
   "cell_type": "markdown",
   "metadata": {},
   "source": [
    "### Data Preprocessing"
   ]
  },
  {
   "cell_type": "markdown",
   "metadata": {},
   "source": [
    "##### When using a convolutional layer as the first layer to our model, we need to reshape our data to (n_images, x_shape, y_shape, channels). All you really need to know is that you should set channels to 1 for grayscale images and set channels to 3 when you have a set of RGB-images as input."
   ]
  },
  {
   "cell_type": "code",
   "execution_count": 3,
   "metadata": {},
   "outputs": [],
   "source": [
    "train_X = train_X.reshape(-1, 28,28, 1)\n",
    "test_X = test_X.reshape(-1, 28,28, 1)"
   ]
  },
  {
   "cell_type": "markdown",
   "metadata": {},
   "source": [
    "##### Negative one is the same as specifying the total number of images in the training set."
   ]
  },
  {
   "cell_type": "code",
   "execution_count": 4,
   "metadata": {},
   "outputs": [
    {
     "data": {
      "text/plain": [
       "(60000, 28, 28, 1)"
      ]
     },
     "execution_count": 4,
     "metadata": {},
     "output_type": "execute_result"
    }
   ],
   "source": [
    "train_X.shape"
   ]
  },
  {
   "cell_type": "markdown",
   "metadata": {},
   "source": [
    "##### Modifying the values of each pixel such that they range from 0 to 1 will improve the rate at which our model learns."
   ]
  },
  {
   "cell_type": "code",
   "execution_count": 5,
   "metadata": {},
   "outputs": [],
   "source": [
    "train_X = train_X.astype('float32')\n",
    "test_X = test_X.astype('float32')\n",
    "\n",
    "train_X = train_X / 255\n",
    "test_X = test_X / 255"
   ]
  },
  {
   "cell_type": "markdown",
   "metadata": {},
   "source": [
    "##### Our model cannot work with categorical data directly. Ergo we must use one hot encoding. In one hot encoding, the digits 0 through 9 are represented as a set of nine zeros and a single one. The digit is determined by the location of the number 1. For example, you’d represent a 3 as [0, 0, 0, 1, 0, 0, 0, 0, 0, 0]."
   ]
  },
  {
   "cell_type": "code",
   "execution_count": 6,
   "metadata": {},
   "outputs": [],
   "source": [
    "train_Y_one_hot = to_categorical(train_Y)\n",
    "test_Y_one_hot = to_categorical(test_Y)"
   ]
  },
  {
   "cell_type": "markdown",
   "metadata": {},
   "source": [
    "### Training"
   ]
  },
  {
   "cell_type": "markdown",
   "metadata": {},
   "source": [
    "##### Our convolutional layers will have 64 neurons (feature maps) and a 3x3 feature detector. In turn, our pooling layers will use max pooling with a 2x2 matrix. Convolutional neural networks are almost always proceeded by an artificial neural network. In Keras, a Dense layer implements the operation output = activation(dot(input, weight) + bias). The input to our artificial neural network must be in one dimension therefore we flatten it beforehand."
   ]
  },
  {
   "cell_type": "code",
   "execution_count": 7,
   "metadata": {},
   "outputs": [],
   "source": [
    "# model Architecture\n",
    "\n",
    "model = Sequential()\n",
    "\n",
    "model.add(Conv2D(64, (3,3), input_shape=(28, 28, 1)))\n",
    "model.add(Activation('relu'))\n",
    "model.add(MaxPooling2D(pool_size=(2,2)))\n",
    "\n",
    "model.add(Conv2D(64, (3,3)))\n",
    "model.add(Activation('relu'))\n",
    "model.add(MaxPooling2D(pool_size=(2,2)))\n",
    "\n",
    "model.add(Flatten())\n",
    "model.add(Dense(64))\n",
    "model.add(Dense(10))\n",
    "\n",
    "model.add(Activation('softmax'))"
   ]
  },
  {
   "cell_type": "code",
   "execution_count": 8,
   "metadata": {},
   "outputs": [],
   "source": [
    "# model compile\n",
    "\n",
    "model.compile(loss=keras.losses.categorical_crossentropy, optimizer=keras.optimizers.Adam(),metrics=['accuracy'])"
   ]
  },
  {
   "cell_type": "code",
   "execution_count": 10,
   "metadata": {},
   "outputs": [
    {
     "name": "stdout",
     "output_type": "stream",
     "text": [
      "Model: \"sequential_1\"\n",
      "_________________________________________________________________\n",
      "Layer (type)                 Output Shape              Param #   \n",
      "=================================================================\n",
      "conv2d_1 (Conv2D)            (None, 26, 26, 64)        640       \n",
      "_________________________________________________________________\n",
      "activation_1 (Activation)    (None, 26, 26, 64)        0         \n",
      "_________________________________________________________________\n",
      "max_pooling2d_1 (MaxPooling2 (None, 13, 13, 64)        0         \n",
      "_________________________________________________________________\n",
      "conv2d_2 (Conv2D)            (None, 11, 11, 64)        36928     \n",
      "_________________________________________________________________\n",
      "activation_2 (Activation)    (None, 11, 11, 64)        0         \n",
      "_________________________________________________________________\n",
      "max_pooling2d_2 (MaxPooling2 (None, 5, 5, 64)          0         \n",
      "_________________________________________________________________\n",
      "flatten_1 (Flatten)          (None, 1600)              0         \n",
      "_________________________________________________________________\n",
      "dense_1 (Dense)              (None, 64)                102464    \n",
      "_________________________________________________________________\n",
      "dense_2 (Dense)              (None, 10)                650       \n",
      "_________________________________________________________________\n",
      "activation_3 (Activation)    (None, 10)                0         \n",
      "=================================================================\n",
      "Total params: 140,682\n",
      "Trainable params: 140,682\n",
      "Non-trainable params: 0\n",
      "_________________________________________________________________\n"
     ]
    }
   ],
   "source": [
    "model.summary()"
   ]
  },
  {
   "cell_type": "markdown",
   "metadata": {},
   "source": [
    "##### The batch size must match the number of images going into our first convolutional layer."
   ]
  },
  {
   "cell_type": "code",
   "execution_count": 11,
   "metadata": {},
   "outputs": [
    {
     "name": "stdout",
     "output_type": "stream",
     "text": [
      "Train on 60000 samples, validate on 10000 samples\n",
      "Epoch 1/10\n",
      "60000/60000 [==============================] - 52s 861us/step - loss: 0.4659 - accuracy: 0.8337 - val_loss: 0.3733 - val_accuracy: 0.8636\n",
      "Epoch 2/10\n",
      "60000/60000 [==============================] - 55s 921us/step - loss: 0.3133 - accuracy: 0.8867 - val_loss: 0.3335 - val_accuracy: 0.8770\n",
      "Epoch 3/10\n",
      "60000/60000 [==============================] - 60s 1ms/step - loss: 0.2753 - accuracy: 0.8998 - val_loss: 0.3041 - val_accuracy: 0.8889\n",
      "Epoch 4/10\n",
      "60000/60000 [==============================] - 54s 899us/step - loss: 0.2477 - accuracy: 0.9107 - val_loss: 0.2798 - val_accuracy: 0.8969\n",
      "Epoch 5/10\n",
      "60000/60000 [==============================] - 54s 905us/step - loss: 0.2274 - accuracy: 0.9168 - val_loss: 0.2696 - val_accuracy: 0.9028\n",
      "Epoch 6/10\n",
      "60000/60000 [==============================] - 53s 880us/step - loss: 0.2129 - accuracy: 0.9231 - val_loss: 0.2670 - val_accuracy: 0.9057\n",
      "Epoch 7/10\n",
      "60000/60000 [==============================] - 51s 852us/step - loss: 0.1966 - accuracy: 0.9277 - val_loss: 0.2805 - val_accuracy: 0.9021\n",
      "Epoch 8/10\n",
      "60000/60000 [==============================] - 56s 935us/step - loss: 0.1861 - accuracy: 0.9320 - val_loss: 0.2711 - val_accuracy: 0.9058\n",
      "Epoch 9/10\n",
      "60000/60000 [==============================] - 59s 983us/step - loss: 0.1700 - accuracy: 0.9374 - val_loss: 0.2894 - val_accuracy: 0.8977\n",
      "Epoch 10/10\n",
      "60000/60000 [==============================] - 54s 894us/step - loss: 0.1620 - accuracy: 0.9399 - val_loss: 0.2792 - val_accuracy: 0.9019\n"
     ]
    },
    {
     "data": {
      "text/plain": [
       "<keras.callbacks.callbacks.History at 0x141b4ccd0>"
      ]
     },
     "execution_count": 11,
     "metadata": {},
     "output_type": "execute_result"
    }
   ],
   "source": [
    "model.fit(train_X, train_Y_one_hot, batch_size=64, epochs=10, validation_data=(test_X, test_Y_one_hot))"
   ]
  },
  {
   "cell_type": "code",
   "execution_count": 12,
   "metadata": {},
   "outputs": [
    {
     "name": "stdout",
     "output_type": "stream",
     "text": [
      "10000/10000 [==============================] - 2s 197us/step\n",
      "Test loss 0.27921232336759566\n",
      "Test accuracy 0.9018999934196472\n"
     ]
    }
   ],
   "source": [
    "test_loss, test_acc = model.evaluate(test_X, test_Y_one_hot)\n",
    "print('Test loss', test_loss)\n",
    "print('Test accuracy', test_acc)"
   ]
  },
  {
   "cell_type": "code",
   "execution_count": 13,
   "metadata": {},
   "outputs": [
    {
     "name": "stdout",
     "output_type": "stream",
     "text": [
      "9\n"
     ]
    }
   ],
   "source": [
    "predictions = model.predict(test_X)\n",
    "print(np.argmax(np.round(predictions[0])))"
   ]
  },
  {
   "cell_type": "code",
   "execution_count": 14,
   "metadata": {},
   "outputs": [
    {
     "data": {
      "image/png": "[encoded data removed]",
      "text/plain": [
       "<Figure size 432x288 with 1 Axes>"
      ]
     },
     "metadata": {
      "needs_background": "light"
     },
     "output_type": "display_data"
    }
   ],
   "source": [
    "plt.imshow(test_X[0].reshape(28, 28), cmap = plt.cm.binary)\n",
    "plt.show()"
   ]
  },
  {
   "cell_type": "markdown",
   "metadata": {
    "colab_type": "text",
    "id": "zv_3xNMjzdLI"
   },
   "source": [
    "## Stretch Goals:\n",
    "\n",
    "- Use Hyperparameter Tuning to make the accuracy of your models as high as possible. (error as low as possible)\n",
    "- Use Cross Validation techniques to get more consistent results with your model.\n",
    "- Use GridSearchCV to try different combinations of hyperparameters. \n",
    "- Start looking into other types of Keras layers for CNNs and RNNs maybe try and build a CNN model for fashion-MNIST to see how the results compare."
   ]
  }
 ],
 "metadata": {
  "colab": {
   "name": "LS_DS_433_Keras_Assignment.ipynb",
   "provenance": [],
   "version": "0.3.2"
  },
  "kernelspec": {
   "display_name": "Python 3",
   "language": "python",
   "name": "python3"
  },
  "language_info": {
   "codemirror_mode": {
    "name": "ipython",
    "version": 3
   },
   "file_extension": ".py",
   "mimetype": "text/x-python",
   "name": "python",
   "nbconvert_exporter": "python",
   "pygments_lexer": "ipython3",
   "version": "3.7.4"
  }
 },
 "nbformat": 4,
 "nbformat_minor": 4
}
